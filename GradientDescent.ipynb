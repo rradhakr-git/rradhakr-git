{
 "cells": [
  {
   "cell_type": "markdown",
   "metadata": {},
   "source": [
    "# Gradient Descent"
   ]
  },
  {
   "cell_type": "markdown",
   "metadata": {},
   "source": [
    "<font color='steelblue'>\n",
    "\n",
    "<span style=\"font-family:verdana; font-size:1.6em;\">\n",
    "    <b>Gradient Descent</b><br><br>\n",
    "    Relation between Error, Weights and Predictions using Gradient Descent<br><br>\n",
    "</span>\n",
    "<span style=\"font-family:verdana; font-size:1.4em;\">\n",
    "    <b>Following examples are included in the processing:</b>\n",
    "    <ol>\n",
    "        <li>Define input, initial weight and prediction target</li>\n",
    "        <li>Set number of iterations</li>\n",
    "        <li>Calculate prediction and error</li>\n",
    "        <li>Adjust the weight</li>\n",
    "        <li>Create Dataframe using the data used</li>\n",
    "        <li>Plot the Dataframe</li>\n",
    "    </ol>    \n",
    "</span>\n",
    "\n",
    "</font>"
   ]
  },
  {
   "cell_type": "code",
   "execution_count": null,
   "metadata": {},
   "outputs": [],
   "source": [
    "import numpy as np\n",
    "import pandas as pd\n",
    "import matplotlib.pyplot as plt\n",
    "%matplotlib inline\n",
    "\n",
    "# Use either of these lines for grids or no grids\n",
    "plt.style.use('seaborn-whitegrid')    # grids in the plots\n",
    "\n",
    "pd.set_option('display.max_rows', None)  # display all rows"
   ]
  },
  {
   "cell_type": "code",
   "execution_count": null,
   "metadata": {},
   "outputs": [],
   "source": [
    "input = 0.5\n",
    "weight = 0.1\n",
    "target = 0.9"
   ]
  },
  {
   "cell_type": "code",
   "execution_count": null,
   "metadata": {},
   "outputs": [],
   "source": [
    "data = []\n",
    "numIter = 30"
   ]
  },
  {
   "cell_type": "code",
   "execution_count": null,
   "metadata": {},
   "outputs": [],
   "source": [
    "for iter in range(numIter):\n",
    "    predict = input * weight\n",
    "    error = (predict - target) ** 2\n",
    "    \n",
    "    delta = predict - target    # how wrong am i\n",
    "    weight_delta = delta * input   # do it for sign and magnitude\n",
    "    weight = weight - weight_delta\n",
    "    row = [error, weight, predict]\n",
    "    data.append(row)\n",
    "    #print(f'Error: {error} Weight {weight} Prediction {predict}')\n",
    "    \n",
    "    print('Error: {0:.8} Weight {1:8} Prediction {2:.8}'.format(error, weight, predict))"
   ]
  },
  {
   "cell_type": "code",
   "execution_count": null,
   "metadata": {},
   "outputs": [],
   "source": [
    "df = pd.DataFrame(data, columns = ['Error', 'Weight', 'Prediction'])"
   ]
  },
  {
   "cell_type": "code",
   "execution_count": null,
   "metadata": {},
   "outputs": [],
   "source": [
    "#df.style.format('{:.10f}')\n",
    "pd.set_option('precision', 16)\n",
    "df.head(numIter)"
   ]
  },
  {
   "cell_type": "code",
   "execution_count": null,
   "metadata": {},
   "outputs": [],
   "source": [
    "plt.figure(figsize = [10, 8])\n",
    "plt.scatter(df['Weight'], df['Error'], alpha=0.8,\n",
    "            s=300, c=df['Prediction'], cmap='magma')\n",
    "plt.xlabel('Weight')\n",
    "plt.ylabel(\"Error\")\n",
    "plt.xlim(0.5, 1.8)\n",
    "plt.title(\"Weight v/s Error\")\n",
    "plt.show()"
   ]
  },
  {
   "cell_type": "markdown",
   "metadata": {},
   "source": [
    "## Another example"
   ]
  },
  {
   "cell_type": "code",
   "execution_count": null,
   "metadata": {},
   "outputs": [],
   "source": [
    "X = [0,0.12,0.25,0.27,0.38,0.42,0.44,0.55,0.92,1.0]\n",
    "y = [0,0.15,0.54,0.51, 0.34,0.1,0.19,0.53,1.0,0.58]\n",
    "\n",
    "costs = []"
   ]
  },
  {
   "cell_type": "code",
   "execution_count": null,
   "metadata": {},
   "outputs": [],
   "source": [
    "#Step 1: Parameter initialization \n",
    "W = 0.45\n",
    "b = 0.75"
   ]
  },
  {
   "cell_type": "code",
   "execution_count": null,
   "metadata": {},
   "outputs": [],
   "source": [
    "def getCosts(niters):\n",
    "    num_iters = niters\n",
    "    global W, b\n",
    "    for i in range(1, num_iters):\n",
    "    \n",
    "        #Step 2: Step 2: Calculate Cost\n",
    "        Y_pred = np.multiply(W, X) + b\n",
    "        Loss_error = 0.5 * (Y_pred - y)**2\n",
    "        cost = np.sum(Loss_error)/10\n",
    "        \n",
    "        #Step 3: Calculate dW and db    \n",
    "        db = np.sum((Y_pred - y))\n",
    "        dw = np.dot((Y_pred - y), X)\n",
    "        costs.append(cost)\n",
    "\n",
    "        #Step 4: Update parameters:\n",
    "        W = W - 0.01 * dw\n",
    "        b = b - 0.01 * db\n",
    "    \n",
    "        if i%10 == 0:\n",
    "            print(\"Cost at\", i,\"iteration = \", cost)"
   ]
  },
  {
   "cell_type": "code",
   "execution_count": null,
   "metadata": {},
   "outputs": [],
   "source": [
    "#Plot the cost against no. of iterations\n",
    "def plotCosts():\n",
    "    print(\"W = \", W,\"& b = \",  b)\n",
    "    plt.figure(figsize = (10, 6))\n",
    "    plt.plot(costs)\n",
    "    plt.ylabel('cost')\n",
    "    plt.xlabel('iterations (per tens)')\n",
    "    plt.show()"
   ]
  },
  {
   "cell_type": "code",
   "execution_count": null,
   "metadata": {},
   "outputs": [],
   "source": [
    "getCosts(100)"
   ]
  },
  {
   "cell_type": "code",
   "execution_count": null,
   "metadata": {},
   "outputs": [],
   "source": [
    "plotCosts()"
   ]
  },
  {
   "cell_type": "markdown",
   "metadata": {},
   "source": [
    "<font color='tomato'>\n",
    "\n",
    "<span style=\"font-family:verdana; font-size:1.6em;\">\n",
    "    <b>set num_iter to 1000 and observe the weight and bias</b>\n",
    "</span>\n",
    "</font>"
   ]
  },
  {
   "cell_type": "code",
   "execution_count": null,
   "metadata": {},
   "outputs": [],
   "source": [
    "getCosts(1000)"
   ]
  },
  {
   "cell_type": "code",
   "execution_count": null,
   "metadata": {},
   "outputs": [],
   "source": [
    "plotCosts()"
   ]
  }
 ],
 "metadata": {
  "kernelspec": {
   "display_name": "Python 3",
   "language": "python",
   "name": "python3"
  },
  "language_info": {
   "codemirror_mode": {
    "name": "ipython",
    "version": 3
   },
   "file_extension": ".py",
   "mimetype": "text/x-python",
   "name": "python",
   "nbconvert_exporter": "python",
   "pygments_lexer": "ipython3",
   "version": "3.7.6"
  }
 },
 "nbformat": 4,
 "nbformat_minor": 4
}
