{
 "cells": [
  {
   "cell_type": "markdown",
   "metadata": {},
   "source": [
    "# Visualizations and Profiling Data"
   ]
  },
  {
   "cell_type": "markdown",
   "metadata": {},
   "source": [
    "<font color='steelblue'>\n",
    "\n",
    "<span style=\"font-family:verdana; font-size:1.6em;\">\n",
    "    <b>Couple of handy tools to do data exploration with minimal code</b><br>\n",
    "</span>\n",
    "<span style=\"font-family:verdana; font-size:1.4em;\">\n",
    "    <b>Tools:</b><i>\n",
    "    <ol>\n",
    "        <li>Autoviz - to visualize dataset</li>\n",
    "        <li>Pandas Profiling - to profile data</li>\n",
    "        <li>Datasist - Another visualization tool</li>\n",
    "    </ol> </i>   \n",
    "</span>\n",
    "\n",
    "</font>"
   ]
  },
  {
   "cell_type": "markdown",
   "metadata": {},
   "source": [
    "# Autoviz"
   ]
  },
  {
   "cell_type": "markdown",
   "metadata": {},
   "source": [
    "<font color='tomato'>\n",
    "\n",
    "<span style=\"font-family:verdana; font-size:1.6em;\">\n",
    "    <b>Install following (instructions for windows/mac/Linux)</b><br>\n",
    " \n",
    "<ol>\n",
    "    <li>conda install -c anaconda py-xgboost </li>\n",
    "    <li>pip install autoviz</li>\n",
    "    </ol>\n",
    "    </span>\n",
    "    </font>"
   ]
  },
  {
   "cell_type": "markdown",
   "metadata": {},
   "source": [
    "## Import required libraries"
   ]
  },
  {
   "cell_type": "code",
   "execution_count": null,
   "metadata": {},
   "outputs": [],
   "source": [
    "import numpy as np\n",
    "import pandas as pd\n",
    "import matplotlib.pyplot as plt\n",
    "%matplotlib inline\n",
    "\n",
    "import seaborn as sns\n",
    "plt.style.use('seaborn-whitegrid')    # grids in the plots\n",
    "import warnings\n",
    "warnings.filterwarnings('ignore')\n",
    "\n",
    "# Do not truncate columns in dataframe\n",
    "pd.set_option('display.max_colwidth', -1)"
   ]
  },
  {
   "cell_type": "markdown",
   "metadata": {},
   "source": [
    "## Load the dataset<br>\n",
    "<font color='steelblue'>\n",
    "<span style=\"font-family:verdana; font-size:1.4em;\">\n",
    "The dataset is regading telecom customers with various information regarding them. Objective is to create a model to predict there will be customer churn - will stay or leave\n",
    "</span>\n",
    "</font>"
   ]
  },
  {
   "cell_type": "code",
   "execution_count": null,
   "metadata": {},
   "outputs": [],
   "source": [
    "filename = '../datasets/Telco-Customer-Churn.csv'\n",
    "df = pd.read_csv(filename)"
   ]
  },
  {
   "cell_type": "code",
   "execution_count": null,
   "metadata": {},
   "outputs": [],
   "source": [
    "pd.set_option('display.max_colwidth', None)\n",
    "pd.set_option('display.max_columns', None)\n",
    "df.head()"
   ]
  },
  {
   "cell_type": "code",
   "execution_count": null,
   "metadata": {},
   "outputs": [],
   "source": [
    "df['TotalCharges'] = df['TotalCharges'].replace(\" \", np.nan)"
   ]
  },
  {
   "cell_type": "code",
   "execution_count": null,
   "metadata": {},
   "outputs": [],
   "source": [
    "df.shape"
   ]
  },
  {
   "cell_type": "code",
   "execution_count": null,
   "metadata": {},
   "outputs": [],
   "source": [
    "df.isna().sum()"
   ]
  },
  {
   "cell_type": "code",
   "execution_count": null,
   "metadata": {},
   "outputs": [],
   "source": [
    "df.nunique()"
   ]
  },
  {
   "cell_type": "code",
   "execution_count": null,
   "metadata": {},
   "outputs": [],
   "source": [
    "target_col = ['Churn']\n",
    "cat_cols   = df.nunique()[df.nunique() < 6].keys().tolist()\n",
    "# categorical coluns\n",
    "cat_cols   = [x for x in cat_cols if x not in target_col]\n",
    "# numerical columns\n",
    "num_cols   = [x for x in df.columns if x not in cat_cols + target_col]\n",
    "# binary columns\n",
    "bin_cols   = df.nunique()[df.nunique() == 2].keys().tolist()\n",
    "# multiple values column\n",
    "multi_cols = [i for i in cat_cols if i not in bin_cols]"
   ]
  },
  {
   "cell_type": "code",
   "execution_count": null,
   "metadata": {},
   "outputs": [],
   "source": [
    "print(\"categorical {}\".format(cat_cols))\n",
    "print(\"continuous {}\".format(num_cols))\n",
    "print(\"binary categorical {}\".format(bin_cols))\n",
    "print(\"multi categorical {}\".format(multi_cols))"
   ]
  },
  {
   "cell_type": "markdown",
   "metadata": {},
   "source": [
    "## Instantiate the AutoViz class"
   ]
  },
  {
   "cell_type": "code",
   "execution_count": null,
   "metadata": {},
   "outputs": [],
   "source": [
    "from autoviz.AutoViz_Class import AutoViz_Class\n",
    "AV = AutoViz_Class()"
   ]
  },
  {
   "cell_type": "code",
   "execution_count": null,
   "metadata": {},
   "outputs": [],
   "source": [
    "# define data information\n",
    "sep = ','\n",
    "target = 'Churn'"
   ]
  },
  {
   "cell_type": "markdown",
   "metadata": {},
   "source": [
    "## Plot data without defining target variable"
   ]
  },
  {
   "cell_type": "code",
   "execution_count": null,
   "metadata": {
    "scrolled": false
   },
   "outputs": [],
   "source": [
    "# Replace verbose to 0 to see additional information about data\n",
    "#Verbose\n",
    "#    if 0, does not print any messages and goes into silent mode. This is the default.\n",
    "#    if 1, print messages on the terminal and also display charts on terminal.\n",
    "#    if 2, print messages but will not display charts, it will simply save them.\n",
    "\n",
    "dft = AV.AutoViz(filename, sep=sep, dfte=None, header=1, verbose=1,\n",
    "                lowess=False,chart_format='svg',max_rows_analyzed=9000,max_cols_analyzed=60)"
   ]
  },
  {
   "cell_type": "markdown",
   "metadata": {},
   "source": [
    "## Plot data with target variable"
   ]
  },
  {
   "cell_type": "code",
   "execution_count": null,
   "metadata": {
    "scrolled": false
   },
   "outputs": [],
   "source": [
    "dft = AV.AutoViz(filename, sep=sep, depVar=target, dfte=None, header=1, verbose=1,\n",
    "                lowess=False,chart_format='svg',max_rows_analyzed=9000,max_cols_analyzed=60)"
   ]
  },
  {
   "cell_type": "markdown",
   "metadata": {},
   "source": [
    "# Pandas Profiling"
   ]
  },
  {
   "cell_type": "markdown",
   "metadata": {},
   "source": [
    "<font color='tomato'>\n",
    "\n",
    "<span style=\"font-family:verdana; font-size:1.6em;\">\n",
    "    <b>Install Pandas Profiling (Windows)</b><br>\n",
    " \n",
    "<ol>\n",
    "    <li>conda install -c conda-forge/label/cf202003 pandas-profiling </li>\n",
    "    <li>pip install missingno </li>\n",
    "</ol>\n",
    "    missingno is for missing information in dataframe (null, NA, np.nan)\n",
    "</span>\n",
    "</font>"
   ]
  },
  {
   "cell_type": "code",
   "execution_count": null,
   "metadata": {},
   "outputs": [],
   "source": [
    "# to render the report in the notebook\n",
    "!jupyter nbextension enable --py widgetsnbextension"
   ]
  },
  {
   "cell_type": "code",
   "execution_count": null,
   "metadata": {},
   "outputs": [],
   "source": [
    "from pandas_profiling import ProfileReport"
   ]
  },
  {
   "cell_type": "markdown",
   "metadata": {},
   "source": [
    "## Create a report"
   ]
  },
  {
   "cell_type": "code",
   "execution_count": null,
   "metadata": {},
   "outputs": [],
   "source": [
    "designReport = ProfileReport(df, title = \"Customer Churn\", \n",
    "                             correlations={\"cramers\": {\"calculate\": True},\n",
    "                                           \"spearman\": {\"calculate\": True},\n",
    "                                           \"kendall\": {\"calculate\": False},\n",
    "                                           \"phi_k\": {\"calculate\": False},\n",
    "                                           \"recoded\": {\"calculate\": True},\n",
    "                                           \"pearson\": {\"calculate\": True}},\n",
    "                            samples = {\"head\": 10, \"tail\": 5})"
   ]
  },
  {
   "cell_type": "code",
   "execution_count": null,
   "metadata": {},
   "outputs": [],
   "source": [
    "print(type(designReport))"
   ]
  },
  {
   "cell_type": "code",
   "execution_count": null,
   "metadata": {},
   "outputs": [],
   "source": [
    "# can be written to JSON also\n",
    "designReport.to_file('report.html')"
   ]
  },
  {
   "cell_type": "code",
   "execution_count": null,
   "metadata": {},
   "outputs": [],
   "source": [
    "designReport.to_widgets()"
   ]
  },
  {
   "cell_type": "markdown",
   "metadata": {},
   "source": [
    "## To view [Profile Report parameters](https://github.com/pandas-profiling/pandas-profiling/blob/master/src/pandas_profiling/config_default.yaml)"
   ]
  },
  {
   "cell_type": "markdown",
   "metadata": {},
   "source": [
    "# Datasist"
   ]
  },
  {
   "cell_type": "markdown",
   "metadata": {},
   "source": [
    "<font color='tomato'>\n",
    "\n",
    "<span style=\"font-family:verdana; font-size:1.6em;\">\n",
    "    <b>Install Datasist (Windows)</b><br>\n",
    " \n",
    "<ol>\n",
    "    <li>pip install datasist</li>\n",
    "</ol>\n",
    "</span>\n",
    "</font>"
   ]
  },
  {
   "cell_type": "markdown",
   "metadata": {},
   "source": [
    "## To view [Datasist Documentation](https://risingodegua.gitbook.io/datasist-doc/)"
   ]
  },
  {
   "cell_type": "markdown",
   "metadata": {},
   "source": [
    "## To view [Datasist Tutorial](https://risenw.github.io/datasist/classification_example.html) "
   ]
  },
  {
   "cell_type": "code",
   "execution_count": null,
   "metadata": {},
   "outputs": [],
   "source": [
    "import datasist as ds  #import datasist library"
   ]
  },
  {
   "cell_type": "markdown",
   "metadata": {},
   "source": [
    "## Numerical Features Visualization"
   ]
  },
  {
   "cell_type": "code",
   "execution_count": null,
   "metadata": {},
   "outputs": [],
   "source": [
    "# create box plot\n",
    "ds.visualizations.boxplot(df, target = 'Churn')"
   ]
  },
  {
   "cell_type": "markdown",
   "metadata": {},
   "source": [
    "## Categorical Features Visualizations"
   ]
  },
  {
   "cell_type": "code",
   "execution_count": null,
   "metadata": {
    "scrolled": false
   },
   "outputs": [],
   "source": [
    "# set save_fig to true so that each chart is printed as .png file\n",
    "#ds.visualizations.catbox(df, target = 'Churn', save_fig = True)\n",
    "ds.visualizations.catbox(df, target = 'Churn', save_fig = False)"
   ]
  },
  {
   "cell_type": "code",
   "execution_count": null,
   "metadata": {
    "scrolled": false
   },
   "outputs": [],
   "source": [
    "# Use Autoviz\n",
    "ds.visualizations.autoviz(df)"
   ]
  },
  {
   "cell_type": "markdown",
   "metadata": {},
   "source": [
    "<font color='tomato'>\n",
    "\n",
    "<span style=\"font-family:verdana; font-size:1.6em;\">\n",
    "    <b>Download as HTML</b><br><br>\n",
    "    <b>File --> Download as --> HTML (html)</b>\n",
    "    </span>\n",
    "</font>"
   ]
  }
 ],
 "metadata": {
  "kernelspec": {
   "display_name": "Python 3",
   "language": "python",
   "name": "python3"
  },
  "language_info": {
   "codemirror_mode": {
    "name": "ipython",
    "version": 3
   },
   "file_extension": ".py",
   "mimetype": "text/x-python",
   "name": "python",
   "nbconvert_exporter": "python",
   "pygments_lexer": "ipython3",
   "version": "3.7.6"
  },
  "name": "Linear Regression Real Estate",
  "notebookId": 1971544161071170
 },
 "nbformat": 4,
 "nbformat_minor": 4
}
