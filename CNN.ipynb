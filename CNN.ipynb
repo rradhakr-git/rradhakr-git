{
 "cells": [
  {
   "cell_type": "markdown",
   "metadata": {},
   "source": [
    "# Build Convolutional Neural Network"
   ]
  },
  {
   "cell_type": "markdown",
   "metadata": {},
   "source": [
    "<font color='steelblue'>\n",
    "\n",
    "<span style=\"font-family:verdana; font-size:1.6em;\">\n",
    "    <strong>MNIST Digit Recognition</strong><br><br>\n",
    "    From the Keras datasets, import the MNIST Digits data.<br>\n",
    "    There are images of digits 0 to 9 and have labels associated\n",
    "    with each image.<br>\n",
    "</span>\n",
    "<span style=\"font-family:verdana; font-size:1.4em;\"><br>\n",
    "    <b>Following examples are included in the processing:</b>\n",
    "    <ol>\n",
    "        <li>Check the version of Tensorflow and Keras </li>\n",
    "        <li>Load training and test data including labels</li>\n",
    "        <li>Normalize the images</li>\n",
    "        <li>Plot few images after being normalized</li>\n",
    "        <li>Create a Neural Network and build a model</li>\n",
    "        <li>Train the model on the training dataset</li>\n",
    "        <li>Evaluate the accuracy of the model using test dataset</li>\n",
    "        <li>Plot the accuracy and loss for the model</li>\n",
    "    </ol>    \n",
    "</span>\n",
    "\n",
    "</font>"
   ]
  },
  {
   "cell_type": "code",
   "execution_count": null,
   "metadata": {},
   "outputs": [],
   "source": [
    "%config IPCompleter.greedy = True"
   ]
  },
  {
   "cell_type": "code",
   "execution_count": null,
   "metadata": {},
   "outputs": [],
   "source": [
    "import tensorflow as tf\n",
    "from tensorflow import keras\n",
    "from tensorflow.keras import layers\n",
    "\n",
    "import numpy\n",
    "import matplotlib.pyplot as plt\n",
    "import warnings\n",
    "warnings.filterwarnings('ignore')\n",
    "warnings.filterwarnings(action='once')"
   ]
  },
  {
   "cell_type": "code",
   "execution_count": null,
   "metadata": {},
   "outputs": [],
   "source": [
    "# make sure tensorflow is properly installed\n",
    "tf.__version__, tf.keras.__version__"
   ]
  },
  {
   "cell_type": "markdown",
   "metadata": {},
   "source": [
    "## Locate the dataset"
   ]
  },
  {
   "cell_type": "code",
   "execution_count": null,
   "metadata": {},
   "outputs": [],
   "source": [
    "digits_mnist = keras.datasets.mnist"
   ]
  },
  {
   "cell_type": "code",
   "execution_count": null,
   "metadata": {},
   "outputs": [],
   "source": [
    "(train_images, train_labels), (test_images, test_labels) = \\\n",
    "                                digits_mnist.load_data()"
   ]
  },
  {
   "cell_type": "markdown",
   "metadata": {},
   "source": [
    "## Explore Data"
   ]
  },
  {
   "cell_type": "code",
   "execution_count": null,
   "metadata": {},
   "outputs": [],
   "source": [
    "print(\"Size: train images {}, train labels {}\".format(train_images.shape, \n",
    "                                                      train_labels.shape))\n",
    "\n",
    "# save the number of items in training dataset\n",
    "train_rows = train_images.shape[0]"
   ]
  },
  {
   "cell_type": "code",
   "execution_count": null,
   "metadata": {},
   "outputs": [],
   "source": [
    "print(\"Size: test images {}, test labels {}\".format(test_images.shape, \n",
    "                                                      test_labels.shape))\n",
    "\n",
    "# save the number of items in test dataset\n",
    "test_rows = test_images.shape[0]"
   ]
  },
  {
   "cell_type": "code",
   "execution_count": null,
   "metadata": {},
   "outputs": [],
   "source": [
    "# look at first 10 labels in training set\n",
    "train_labels[:10]"
   ]
  },
  {
   "cell_type": "code",
   "execution_count": null,
   "metadata": {},
   "outputs": [],
   "source": [
    "plt.figure\n",
    "plt.imshow(train_images[5], cmap=plt.cm.binary)\n",
    "plt.colorbar()\n",
    "plt.grid(False)\n",
    "plt.show()"
   ]
  },
  {
   "cell_type": "code",
   "execution_count": null,
   "metadata": {},
   "outputs": [],
   "source": [
    "train_images[0]"
   ]
  },
  {
   "cell_type": "code",
   "execution_count": null,
   "metadata": {},
   "outputs": [],
   "source": [
    "# view 25 of the grayscale images\n",
    "\n",
    "plt.figure(figsize=(10,10))\n",
    "for i in range(25):\n",
    "    plt.subplot(5, 5, i+1)    # print 5 images per row\n",
    "    plt.xticks([])\n",
    "    plt.yticks([])\n",
    "    plt.grid(False)\n",
    "    plt.imshow(train_images[i], cmap=plt.cm.binary)\n",
    "    plt.xlabel(train_labels[i])\n",
    "plt.show()"
   ]
  },
  {
   "cell_type": "markdown",
   "metadata": {},
   "source": [
    "## Normalize the images"
   ]
  },
  {
   "cell_type": "code",
   "execution_count": null,
   "metadata": {},
   "outputs": [],
   "source": [
    "# Normalize the values to be between 0 and 1; min-max normalization\n",
    "\n",
    "train_images = train_images / 255.0\n",
    "test_images = test_images / 255.0"
   ]
  },
  {
   "cell_type": "code",
   "execution_count": null,
   "metadata": {},
   "outputs": [],
   "source": [
    "train_images[0]"
   ]
  },
  {
   "cell_type": "markdown",
   "metadata": {},
   "source": [
    "## Plot few normalized images"
   ]
  },
  {
   "cell_type": "code",
   "execution_count": null,
   "metadata": {},
   "outputs": [],
   "source": [
    "# view 25 of the grayscale images\n",
    "\n",
    "plt.figure(figsize=(10,10))\n",
    "for i in range(25):\n",
    "    plt.subplot(5, 5, i+1)    # print 5 images per row\n",
    "    plt.xticks([])\n",
    "    plt.yticks([])\n",
    "    plt.grid(False)\n",
    "    plt.imshow(train_images[i], cmap=plt.cm.binary)\n",
    "    plt.xlabel(train_labels[i])\n",
    "plt.show()"
   ]
  },
  {
   "cell_type": "code",
   "execution_count": null,
   "metadata": {},
   "outputs": [],
   "source": [
    "# define the image shape (horizontal pixels x vertical pixels x grey scale)\n",
    "iShape = (28,28, 1)"
   ]
  },
  {
   "cell_type": "code",
   "execution_count": null,
   "metadata": {},
   "outputs": [],
   "source": [
    "# The data needs to be reshaped.\n",
    "# The first convolution expects a single tensor containing everything, \n",
    "# so instead of 60,000 28x28x1 items in an array (60000, 28, 28), \n",
    "# it wants a single 4D array/tensor that is 60000x28x28x1, otherwise you will get an error.\n",
    "\n",
    "train_images = train_images.reshape(train_rows, 28, 28, 1)\n",
    "\n",
    "# reshape test images into a single tensor\n",
    "test_images = test_images.reshape(test_rows, 28, 28, 1)"
   ]
  },
  {
   "cell_type": "markdown",
   "metadata": {},
   "source": [
    "# Create Convolution Neural Network"
   ]
  },
  {
   "cell_type": "code",
   "execution_count": null,
   "metadata": {},
   "outputs": [],
   "source": [
    "# Create Convolution Neural Network - adding layers\n",
    "\n",
    "model = keras.models.Sequential()\n",
    "model.add(layers.Conv2D(32, activation = 'relu', input_shape = iShape, kernel_size=(3, 3)))\n",
    "model.add(layers.Conv2D(64, (3, 3), activation='relu'))   # (3,3) - filter size, 64 number of filters\n",
    "model.add(layers.MaxPooling2D(pool_size=(2, 2)))          # (2,2) - pooling size"
   ]
  },
  {
   "cell_type": "code",
   "execution_count": null,
   "metadata": {},
   "outputs": [],
   "source": [
    "# To avoid over fitting on training dataset, randomly drop neurons and their connections\n",
    "# remove 25% of them\n",
    "model.add(layers.Dropout(rate = 0.25))"
   ]
  },
  {
   "cell_type": "code",
   "execution_count": null,
   "metadata": {},
   "outputs": [],
   "source": [
    "# Convert the previous layer into 1 dimensional array (flatten it)\n",
    "model.add(layers.Flatten())"
   ]
  },
  {
   "cell_type": "code",
   "execution_count": null,
   "metadata": {},
   "outputs": [],
   "source": [
    "# Once we’ve flattened the data into a 1D array, add a dense hidden layer, which is normal \n",
    "# to a traditional neural network. Next, add another dropout layer before \n",
    "# adding a final dense layer which classifies the data\n",
    "model.add(layers.Dense(128, activation='relu'))\n",
    "model.add(layers.Dropout(0.5))\n",
    "model.add(layers.Dense(10, activation='softmax'))   # helps classify into classes"
   ]
  },
  {
   "cell_type": "code",
   "execution_count": null,
   "metadata": {},
   "outputs": [],
   "source": [
    "# Compile the model with chosen parameters\n",
    "model.compile(optimizer='adam', \n",
    "              loss='sparse_categorical_crossentropy',\n",
    "              metrics=['accuracy'])"
   ]
  },
  {
   "cell_type": "code",
   "execution_count": null,
   "metadata": {},
   "outputs": [],
   "source": [
    "model.summary()"
   ]
  },
  {
   "cell_type": "markdown",
   "metadata": {},
   "source": [
    "# Model Summary\n",
    "<h3>\n",
    "    <ul>\n",
    "        <li>Shows all parameters and shape for each of the layers</li>\n",
    "        <li>Trainable params: is total number of parameters in our model</li>\n",
    "        <li>Non-trainable params: are parameters that cannot be used by model for training</li>\n",
    "    </ul>\n",
    "</h3>"
   ]
  },
  {
   "cell_type": "markdown",
   "metadata": {},
   "source": [
    "# Train Convolutional Neural Network (CNN)\n",
    "<h3><b>Used 10 epochs and got about 99.08% accuracy on training and the validation set</b></h3>"
   ]
  },
  {
   "cell_type": "code",
   "execution_count": null,
   "metadata": {},
   "outputs": [],
   "source": [
    "# To measure time required to train\n",
    "import timeit, time\n",
    "start = timeit.default_timer()"
   ]
  },
  {
   "cell_type": "code",
   "execution_count": null,
   "metadata": {},
   "outputs": [],
   "source": [
    "# Train the model and include a validation set (composed of 10% of the dataset)\n",
    "# Capturing the returned history enables you to plot the change in \n",
    "# error/loss and accuracy over time\n",
    "batches = 1000\n",
    "epochs = 6\n",
    "history = model.fit(train_images, train_labels, validation_split = 0.1, \n",
    "                    batch_size = batches, epochs = epochs)"
   ]
  },
  {
   "cell_type": "code",
   "execution_count": null,
   "metadata": {},
   "outputs": [],
   "source": [
    "stop = timeit.default_timer()\n",
    "execution_time = stop - start\n",
    "exectime = time.strftime(\"%M:%S\", time.gmtime(execution_time)) \n",
    "print(\"To train it took: {} mins\".format(exectime))"
   ]
  },
  {
   "cell_type": "code",
   "execution_count": null,
   "metadata": {},
   "outputs": [],
   "source": [
    "metrics_names = model.metrics_names"
   ]
  },
  {
   "cell_type": "markdown",
   "metadata": {},
   "source": [
    "# Evaluate the accuracy of the model"
   ]
  },
  {
   "cell_type": "code",
   "execution_count": null,
   "metadata": {},
   "outputs": [],
   "source": [
    "# Use the test images to evaluate the model on a set of unseen images\n",
    "\n",
    "test_loss, test_acc = model.evaluate(test_images, test_labels)\n",
    "\n",
    "print(\"Test accuracy: \", test_acc)"
   ]
  },
  {
   "cell_type": "code",
   "execution_count": null,
   "metadata": {},
   "outputs": [],
   "source": [
    "# Function to plot the accuracy and loss\n",
    "def plot_graphs(history, string):\n",
    "    plt.plot(history.history[string])\n",
    "    plt.plot(history.history['val_'+string])\n",
    "    plt.title('Training and validation')\n",
    "    plt.xlabel('Epochs')\n",
    "    plt.ylabel(string)\n",
    "    plt.legend([string, 'val_'+string])\n",
    "    plt.show()"
   ]
  },
  {
   "cell_type": "code",
   "execution_count": null,
   "metadata": {},
   "outputs": [],
   "source": [
    "for name in metrics_names:\n",
    "    plot_graphs(history, name)"
   ]
  },
  {
   "cell_type": "markdown",
   "metadata": {},
   "source": [
    "<span style=\"font-family:Comic sans MS; font-size:1.4em;\">\n",
    "<font color='tomato'>\n",
    "    <h2>Practice</h2>\n",
    "    <h3>Try out different parameters and see how model accuracy changes</h3>\n",
    "    <ol>\n",
    "        <li>Play with different epoch values (10, 20, ...)</li>\n",
    "        <li>Add more Conv2D and Pooling layers</li>\n",
    "        <li>Change number of neuron in each dense layer</li>\n",
    "        <li>Change the batch size and see what happens</li>    \n",
    "    </ol>\n",
    "</font>\n",
    "</span>"
   ]
  }
 ],
 "metadata": {
  "kernelspec": {
   "display_name": "Python 3",
   "language": "python",
   "name": "python3"
  },
  "language_info": {
   "codemirror_mode": {
    "name": "ipython",
    "version": 3
   },
   "file_extension": ".py",
   "mimetype": "text/x-python",
   "name": "python",
   "nbconvert_exporter": "python",
   "pygments_lexer": "ipython3",
   "version": "3.7.6"
  }
 },
 "nbformat": 4,
 "nbformat_minor": 4
}
