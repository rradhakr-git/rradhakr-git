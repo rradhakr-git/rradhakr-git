{
 "cells": [
  {
   "cell_type": "markdown",
   "metadata": {},
   "source": [
    "# Customer Churn"
   ]
  },
  {
   "cell_type": "markdown",
   "metadata": {},
   "source": [
    "<font color='steelblue'>\n",
    "\n",
    "<span style=\"font-family:Arial; font-size:1.6em;\">\n",
    "    <b>Customer Churn</b><br><br>\n",
    "    Predict customer churn.<br><br>\n",
    "    Dataset has:<br>\n",
    "    <ul>\n",
    "        <li><b>CRM Dataset Shared.tsv : features</b></li>\n",
    "        <li><b>CRM Churn Labels.tsv : target</b></li><br>\n",
    "        <li>Tab separated columns</li>\n",
    "        <li>A lot of null/nan values</li>\n",
    "        <li>Number of columns which has strings</li>\n",
    "        <li>Churn: -1 did not leave, 1 left the company</li>\n",
    "    </ul>\n",
    "</span>\n",
    "\n",
    "</font>\n",
    "<font color = 'tomato'>\n",
    "    <h2>Implementation requirements defined in red</h2>\n",
    "</font>"
   ]
  },
  {
   "cell_type": "code",
   "execution_count": null,
   "metadata": {},
   "outputs": [],
   "source": [
    "import numpy as np\n",
    "import pandas as pd\n",
    "import matplotlib.pyplot as plt\n",
    "%matplotlib inline\n",
    "\n",
    "plt.style.use('seaborn-whitegrid')    # grids in the plots\n",
    "import warnings\n",
    "warnings.filterwarnings('ignore')"
   ]
  },
  {
   "cell_type": "markdown",
   "metadata": {},
   "source": [
    "<font color='tomato'>\n",
    "\n",
    "<span style=\"font-family:Arial; font-size:1.5em;\">\n",
    "    <b>Implement the following:</b><br><br>\n",
    "    <ol>\n",
    "        <li><b>Read 'CRM Dataset Shared.tsv'</b> into dataframe</li>\n",
    "        <li><b>Read 'CRM Churn Labels.tsv'</b>into another dataframe</li><br>\n",
    "        <li>In the target dataframe, convert -1 to 0</li>\n",
    "        <li>Explore the statistical information about the features and target</li>\n",
    "        <li>From features dataframe, drop all columns with string/object as values</li>\n",
    "    </ol>\n",
    "</span>\n",
    "</font>"
   ]
  },
  {
   "cell_type": "code",
   "execution_count": null,
   "metadata": {},
   "outputs": [],
   "source": []
  },
  {
   "cell_type": "code",
   "execution_count": null,
   "metadata": {},
   "outputs": [],
   "source": []
  },
  {
   "cell_type": "markdown",
   "metadata": {},
   "source": [
    "<font color='tomato'>\n",
    "\n",
    "<span style=\"font-family:Arial; font-size:1.5em;\">\n",
    "    <b>Implement the following:</b><br>\n",
    "    <ol>\n",
    "        <li>Apply scaling to the features</li>\n",
    "        <li>Create training and test datasets</li>\n",
    "        <li>Display the shapes of the training and test datasets</li>\n",
    "    </ol>\n",
    "</span>\n",
    "</font>"
   ]
  },
  {
   "cell_type": "code",
   "execution_count": null,
   "metadata": {},
   "outputs": [],
   "source": []
  },
  {
   "cell_type": "code",
   "execution_count": null,
   "metadata": {},
   "outputs": [],
   "source": []
  },
  {
   "cell_type": "markdown",
   "metadata": {},
   "source": [
    "<font color='tomato'>\n",
    "\n",
    "<span style=\"font-family:Arial; font-size:1.5em;\">\n",
    "    <b>Implement the following:</b><br>\n",
    "    <ol>\n",
    "        <li>Apply one or two classifiers</li>\n",
    "        <li>Display scores and any other information about trained model</li>\n",
    "        <li>Make predictions and score the model</li>\n",
    "    </ol>\n",
    "</span>\n",
    "</font>"
   ]
  },
  {
   "cell_type": "code",
   "execution_count": null,
   "metadata": {},
   "outputs": [],
   "source": []
  },
  {
   "cell_type": "code",
   "execution_count": null,
   "metadata": {},
   "outputs": [],
   "source": []
  },
  {
   "cell_type": "markdown",
   "metadata": {},
   "source": [
    "<font color='tomato'>\n",
    "\n",
    "<span style=\"font-family:Arial; font-size:1.5em;\">\n",
    "    <b>Implement the following:</b><br>\n",
    "    <ol>\n",
    "        <li>Create keras sequential model</li>\n",
    "        <li>Train the model using the training dataset</li>\n",
    "        <li>Plot the accuracy information</li>\n",
    "        <li>Evaluate the model</li>\n",
    "    </ol>\n",
    "</span>\n",
    "</font>"
   ]
  },
  {
   "cell_type": "code",
   "execution_count": null,
   "metadata": {},
   "outputs": [],
   "source": [
    "import tensorflow as tf\n",
    "\n",
    "from tensorflow import keras\n",
    "from tensorflow.keras import layers"
   ]
  },
  {
   "cell_type": "code",
   "execution_count": null,
   "metadata": {},
   "outputs": [],
   "source": [
    "# Instantiate the model\n",
    "model = keras.Sequential([\n",
    "    layers.Dense(256, activation='relu', input_shape=[X_train.shape[1]]),\n",
    "    layers.Dense(128, activation='relu'),\n",
    "    layers.Dropout(0.10),\n",
    "    layers.Dense(64, activation='relu'),\n",
    "    layers.Dense(1, activation='sigmoid')\n",
    "])"
   ]
  },
  {
   "cell_type": "code",
   "execution_count": null,
   "metadata": {},
   "outputs": [],
   "source": [
    "model.compile(loss='binary_crossentropy',optimizer='adam',metrics=['accuracy'])"
   ]
  },
  {
   "cell_type": "code",
   "execution_count": null,
   "metadata": {},
   "outputs": [],
   "source": [
    "model.summary()"
   ]
  },
  {
   "cell_type": "code",
   "execution_count": null,
   "metadata": {},
   "outputs": [],
   "source": [
    "EPOCHS = 15\n",
    "history = model.fit(X_train, y_train, validation_split=0.2, \n",
    "                    epochs = EPOCHS, verbose = 1)"
   ]
  },
  {
   "cell_type": "code",
   "execution_count": null,
   "metadata": {},
   "outputs": [],
   "source": [
    "import matplotlib.pyplot as plt\n",
    "%matplotlib inline\n",
    "\n",
    "def plot_graphs(history, string):\n",
    "    plt.plot(history.history[string])\n",
    "    plt.plot(history.history['val_'+ string])\n",
    "    plt.xlabel(\"Epochs\")\n",
    "    plt.ylabel(string)\n",
    "    plt.legend([string, 'val_'+string])\n",
    "    plt.show()"
   ]
  },
  {
   "cell_type": "code",
   "execution_count": null,
   "metadata": {},
   "outputs": [],
   "source": [
    "plot_graphs(history,'accuracy')"
   ]
  },
  {
   "cell_type": "code",
   "execution_count": null,
   "metadata": {},
   "outputs": [],
   "source": [
    "plot_graphs(history, 'loss')"
   ]
  },
  {
   "cell_type": "code",
   "execution_count": null,
   "metadata": {},
   "outputs": [],
   "source": [
    "test_loss, test_acc = model.evaluate(X_test, y_test, verbose=2)"
   ]
  }
 ],
 "metadata": {
  "kernelspec": {
   "display_name": "Python 3",
   "language": "python",
   "name": "python3"
  },
  "language_info": {
   "codemirror_mode": {
    "name": "ipython",
    "version": 3
   },
   "file_extension": ".py",
   "mimetype": "text/x-python",
   "name": "python",
   "nbconvert_exporter": "python",
   "pygments_lexer": "ipython3",
   "version": "3.7.6"
  }
 },
 "nbformat": 4,
 "nbformat_minor": 4
}
