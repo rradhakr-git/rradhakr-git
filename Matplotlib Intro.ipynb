{
 "cells": [
  {
   "cell_type": "markdown",
   "metadata": {},
   "source": [
    "# Matplotlib Intro"
   ]
  },
  {
   "cell_type": "markdown",
   "metadata": {},
   "source": [
    "<font color='steelblue'>\n",
    "\n",
    "<span style=\"font-family:Arial; font-size:1.6em;\">\n",
    "    <strong>Examples of using Matplot library</strong><br><br>\n",
    "</span>\n",
    "<span style=\"font-family:Arial; font-size:1.4em;\">\n",
    "    <b>Following examples are included in the processing:</b>\n",
    "    <ol>\n",
    "        <li>Figures and Axes</li>\n",
    "        <li>Line Plots</li>\n",
    "        <li>Scatter Plots</li>\n",
    "        <li>Histograms</li>\n",
    "        <li>Pair Plots</li>\n",
    "        <li>Plotting using seaborn library</li>\n",
    "    </ol>    \n",
    "</span>\n",
    "\n",
    "</font>"
   ]
  },
  {
   "cell_type": "code",
   "execution_count": null,
   "metadata": {},
   "outputs": [],
   "source": [
    "import numpy as np\n",
    "import pandas as pd\n",
    "import matplotlib.pyplot as plt\n",
    "\n",
    "# embed the plots in notebook\n",
    "%matplotlib inline\n",
    "\n",
    "# Use either of these lines for grids or no grids\n",
    "plt.style.use('seaborn-whitegrid')    # grids in the plots\n",
    "#plt.style.use('seaborn-white')       # no grids in plots"
   ]
  },
  {
   "cell_type": "markdown",
   "metadata": {},
   "source": [
    "## Figures and Axes"
   ]
  },
  {
   "cell_type": "code",
   "execution_count": null,
   "metadata": {},
   "outputs": [],
   "source": [
    "# Figure and axes\n",
    "fig = plt.figure()\n",
    "ax = plt.axes()"
   ]
  },
  {
   "cell_type": "code",
   "execution_count": null,
   "metadata": {},
   "outputs": [],
   "source": [
    "# Another way\n",
    "fig, ax = plt.subplots()  "
   ]
  },
  {
   "cell_type": "markdown",
   "metadata": {},
   "source": [
    "## Line Plots"
   ]
  },
  {
   "cell_type": "code",
   "execution_count": null,
   "metadata": {},
   "outputs": [],
   "source": [
    "x = np.linspace(0, 10, 100)\n",
    "x"
   ]
  },
  {
   "cell_type": "code",
   "execution_count": null,
   "metadata": {},
   "outputs": [],
   "source": [
    "# Take cosine and sine of x\n",
    "y1, y2 = np.cos(x), np.sin(x)\n",
    "fig, ax = plt.subplots()\n",
    "ax.plot(x, y1)\n",
    "ax.plot(x, y2)"
   ]
  },
  {
   "cell_type": "code",
   "execution_count": null,
   "metadata": {},
   "outputs": [],
   "source": [
    "# with show called on plt\n",
    "y1, y2 = np.cos(x), np.sin(x)\n",
    "fig, ax = plt.subplots()\n",
    "ax.plot(x, y1)\n",
    "ax.plot(x, y2)\n",
    "plt.show()"
   ]
  },
  {
   "cell_type": "code",
   "execution_count": null,
   "metadata": {},
   "outputs": [],
   "source": [
    "# Stack Graphs vertically (defining 2 rows for plot)\n",
    "fig, axes = plt.subplots(2)\n",
    "axes[0].plot(x, y1)\n",
    "axes[1].plot(x, y2)\n",
    "plt.show()"
   ]
  },
  {
   "cell_type": "code",
   "execution_count": null,
   "metadata": {},
   "outputs": [],
   "source": [
    "# Stack Graphs horizontally (1 row, 2 columns, and change figure size)\n",
    "fig, axes = plt.subplots(1,2, figsize=(22,4))\n",
    "\n",
    "axes[0].plot(x, y1)\n",
    "axes[1].plot(x, y2, color = 'orange')\n",
    "plt.show()\n"
   ]
  },
  {
   "cell_type": "markdown",
   "metadata": {},
   "source": [
    "## Scatter Plots"
   ]
  },
  {
   "cell_type": "code",
   "execution_count": null,
   "metadata": {},
   "outputs": [],
   "source": [
    "x = np.random.rand(30)\n",
    "y = np.random.rand(30)\n",
    "x, y"
   ]
  },
  {
   "cell_type": "code",
   "execution_count": null,
   "metadata": {},
   "outputs": [],
   "source": [
    "# s is marker size in points\n",
    "# alpha is intensity of the marker 0 for transparent and 1 for opaque\n",
    "plt.scatter(x, y, marker='o', color = 'red', s = 200, alpha=.4)\n",
    "plt.title(\"scatter plot\")\n",
    "plt.show()"
   ]
  },
  {
   "cell_type": "markdown",
   "metadata": {},
   "source": [
    "## Try changing the aplha and the s on the above code and execute the cell"
   ]
  },
  {
   "cell_type": "code",
   "execution_count": null,
   "metadata": {},
   "outputs": [],
   "source": [
    "# get iris_data\n",
    "iris_data = pd.read_csv(\"../datasets/iris.csv\", \n",
    "                        names = [\"sepal_l\", \"sepal_w\", \"petal_l\", \\\n",
    "                                 \"petal_w\", \"class\"])\n",
    "\n",
    "# Transform categorical 'class' to integers\n",
    "iris_data['class'] = iris_data['class'].map({\"Iris-setosa\":0, \\\n",
    "                                             'Iris-versicolor':1, \\\n",
    "                                             'Iris-virginica': 2})\n",
    "iris_data.head()"
   ]
  },
  {
   "cell_type": "code",
   "execution_count": null,
   "metadata": {},
   "outputs": [],
   "source": [
    "# cmap is Colormap magma\n",
    "plt.scatter(iris_data['sepal_l'], iris_data['sepal_w'], alpha=0.8,\n",
    "            s=200, c=iris_data['class'], cmap='magma')\n",
    "\n",
    "plt.xlabel('sepal_l')\n",
    "plt.ylabel(\"sepal_w\")\n",
    "plt.title(\"Sepal Length v/s Sepal Width\")\n",
    "plt.show()"
   ]
  },
  {
   "cell_type": "code",
   "execution_count": null,
   "metadata": {},
   "outputs": [],
   "source": [
    "# Another way of plotting the above graph\n",
    "fig, ax = plt.subplots(figsize = (12, 8))\n",
    "ax.scatter(iris_data['sepal_l'], iris_data['sepal_w'], alpha=.7,\n",
    "           s = 200, c = iris_data[\"class\"],  cmap='cividis')\n",
    "\n",
    "# more convenient way of setting properties\n",
    "ax.set(title=\"Iris Data\", xlabel='sepal_l', ylabel=\"sepal_w\")\n",
    "\n",
    "plt.show()"
   ]
  },
  {
   "cell_type": "code",
   "execution_count": null,
   "metadata": {},
   "outputs": [],
   "source": [
    "# Define multiple scatter plots and provide legend\n",
    "fig, ax = plt.subplots(figsize = (12, 8))\n",
    "\n",
    "ax.scatter(iris_data.loc[:49, 'sepal_l'], iris_data.loc[:49,'sepal_w'],\\\n",
    "           s = 200, c = 'r', alpha=.5, label='Iris-setosa')\n",
    "\n",
    "ax.scatter(iris_data.loc[49:99, 'sepal_l'], iris_data.loc[49:99,'sepal_w'], \\\n",
    "           s = 200, c = 'blue', alpha=.5, label='Iris-versicolor')\n",
    "\n",
    "ax.scatter(iris_data.loc[99:, 'sepal_l'], iris_data.loc[99:,'sepal_w'], \\\n",
    "           s = 200, c = 'green', alpha=.5, label='Iris-virginica')\n",
    "\n",
    "# more convenient way of setting properties\n",
    "ax.set(title=\"Iris Data\", xlabel='sepal_l', ylabel=\"sepal_w\")\n",
    "ax.legend()\n",
    "\n",
    "plt.show()"
   ]
  },
  {
   "cell_type": "markdown",
   "metadata": {},
   "source": [
    "## Histogram"
   ]
  },
  {
   "cell_type": "code",
   "execution_count": null,
   "metadata": {},
   "outputs": [],
   "source": [
    "fig, ax = plt.subplots()\n",
    "#ax.hist(iris_data['sepal_l'], color = 'xkcd:lilac', edgecolor='black')\n",
    "ax.hist(iris_data['sepal_l'], color = 'lightgreen', edgecolor='black')\n",
    "ax.set_title(\"Histogram of Sepal Length\")\n",
    "ax.set_xlabel(\"Length (cms)\")\n",
    "ax.set_ylabel(\"Count\")\n",
    "plt.show()"
   ]
  },
  {
   "cell_type": "code",
   "execution_count": null,
   "metadata": {},
   "outputs": [],
   "source": [
    "# Plot histogram for each column and provide legend\n",
    "fig, ax = plt.subplots(figsize = ((12, 8)))\n",
    "ax.hist(iris_data['sepal_l'], alpha=.5, edgecolor='black')\n",
    "ax.hist(iris_data['sepal_w'], alpha=.5, edgecolor='black')\n",
    "ax.hist(iris_data['petal_l'], alpha=.5, edgecolor='black')\n",
    "ax.hist(iris_data['petal_w'], alpha=.5, edgecolor='black')\n",
    "ax.legend(['sepal_l', 'sepal_w', 'petal_l', 'petal_w'])\n",
    "ax.set_xlabel(\"Length (cms)\")\n",
    "ax.set_ylabel(\"Count\")\n",
    "plt.show()"
   ]
  },
  {
   "cell_type": "code",
   "execution_count": null,
   "metadata": {},
   "outputs": [],
   "source": [
    "iris_data.columns"
   ]
  },
  {
   "cell_type": "markdown",
   "metadata": {},
   "source": [
    "## Pair Plots"
   ]
  },
  {
   "cell_type": "code",
   "execution_count": null,
   "metadata": {},
   "outputs": [],
   "source": [
    "# Pair plotting\n",
    "features = [\"sepal_l\", \"sepal_w\", \"petal_l\", \"petal_w\"]\n",
    "pair_plot = pd.plotting.scatter_matrix(iris_data[features], figsize=(12, 8))"
   ]
  },
  {
   "cell_type": "markdown",
   "metadata": {},
   "source": [
    "## Seaborn library"
   ]
  },
  {
   "cell_type": "code",
   "execution_count": null,
   "metadata": {},
   "outputs": [],
   "source": [
    "# Another library to plot pairs (hue column for which to assign colors)\n",
    "# Useful when target variable is multi-class\n",
    "import seaborn as sns\n",
    "\n",
    "pair_plot = sns.pairplot(iris_data, hue='class')"
   ]
  },
  {
   "cell_type": "code",
   "execution_count": null,
   "metadata": {},
   "outputs": [],
   "source": [
    "# Transform integers back to categorical, set the style to dark and change the diagonal plots\n",
    "sns.set(style = \"dark\")\n",
    "iris_data['class'] = iris_data['class'].map({0:\"Iris-setosa\", \\\n",
    "                                             1:'Iris-versicolor', \\\n",
    "                                             2:'Iris-virginica'})\n",
    "pair_plot = sns.pairplot(iris_data, hue='class', diag_kind = 'hist')"
   ]
  },
  {
   "cell_type": "code",
   "execution_count": null,
   "metadata": {},
   "outputs": [],
   "source": [
    "sns.set(style = \"dark\")\n",
    "pair_plot = sns.pairplot(iris_data, hue='class', markers = ['.', 'o', '^'])"
   ]
  },
  {
   "cell_type": "code",
   "execution_count": null,
   "metadata": {},
   "outputs": [],
   "source": [
    "# Correlation\n",
    "corr = iris_data.corr()\n",
    "corr"
   ]
  },
  {
   "cell_type": "code",
   "execution_count": null,
   "metadata": {
    "scrolled": false
   },
   "outputs": [],
   "source": [
    "f, ax = plt.subplots(figsize=(11, 9))\n",
    "sns.heatmap(corr, annot=True)\n",
    "plt.show()"
   ]
  },
  {
   "cell_type": "markdown",
   "metadata": {},
   "source": [
    "<font color='gray'>\n",
    "<span style=\"font-family:verdana; font-size:1.4em;\">\n",
    "    <b>Heatmap and Color Palette</b>\n",
    "    <br><br>\n",
    "    <a href=\"https://seaborn.pydata.org/generated/seaborn.diverging_palette.html\" target=\"blank\">Color Palette</a><br>\n",
    "<a href=\"https://seaborn.pydata.org/generated/seaborn.heatmap.html\" target=\"blank\">Seaborn heatmap</a>\n",
    "</span>\n",
    "</font>"
   ]
  },
  {
   "cell_type": "code",
   "execution_count": null,
   "metadata": {},
   "outputs": [],
   "source": [
    "sns.palplot(sns.diverging_palette(240, 10, n=9))"
   ]
  },
  {
   "cell_type": "code",
   "execution_count": null,
   "metadata": {},
   "outputs": [],
   "source": [
    "sns.set(font_scale=1.4)\n",
    "f, ax = plt.subplots(figsize=(11, 9))\n",
    "cmap = sns.diverging_palette(220, 10, as_cmap=True)\n",
    "\n",
    "# Draw the heatmap with the mask and correct aspect ratio\n",
    "sns.heatmap(corr, cmap=cmap, vmax=.3, center=0,\n",
    "            square=True, linewidths=.5, cbar_kws={\"shrink\": .5}, annot = True)\n",
    "plt.show()"
   ]
  }
 ],
 "metadata": {
  "kernelspec": {
   "display_name": "Python 3",
   "language": "python",
   "name": "python3"
  },
  "language_info": {
   "codemirror_mode": {
    "name": "ipython",
    "version": 3
   },
   "file_extension": ".py",
   "mimetype": "text/x-python",
   "name": "python",
   "nbconvert_exporter": "python",
   "pygments_lexer": "ipython3",
   "version": "3.7.6"
  }
 },
 "nbformat": 4,
 "nbformat_minor": 4
}
