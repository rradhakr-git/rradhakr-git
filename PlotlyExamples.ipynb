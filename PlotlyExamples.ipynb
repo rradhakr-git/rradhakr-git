{
 "cells": [
  {
   "cell_type": "markdown",
   "metadata": {},
   "source": [
    "# Plotly Examples with Iris Dataset"
   ]
  },
  {
   "cell_type": "markdown",
   "metadata": {},
   "source": [
    "<font color='steelblue'>\n",
    "<h2>\n",
    "<span style=\"font-family:verdana; font-size:1.4em;\">\n",
    "Visualization with Plotly<br>\n",
    "</span>\n",
    "</h2>\n",
    "</font>\n",
    "\n",
    "<font color='grey'>\n",
    "<span style=\"font-family:verdana; font-size:1.2em;\">\n",
    "    <b>Plotly examples with iris flower dataset\n",
    "    <br><br>\n",
    "    Following is included:<br></b>\n",
    "<ol>\n",
    "        <li>Bar Plot</li>\n",
    "        <li>Scatter Plot</li>\n",
    "        <li>Box Plot</li>\n",
    "        <li>Scatter Plot Matrix</li>\n",
    "        <li>3D Scatter</li>\n",
    "</ol>\n",
    "</span>\n",
    "</font>"
   ]
  },
  {
   "cell_type": "markdown",
   "metadata": {},
   "source": [
    "<font color='steelblue'>\n",
    "<h3>\n",
    "<span style=\"font-family:verdana; font-size:1.2em;\">\n",
    "install the library:\n",
    "    \n",
    "    pip install plotly\n",
    "</span>\n",
    "</h3>\n",
    "</font>"
   ]
  },
  {
   "cell_type": "code",
   "execution_count": null,
   "metadata": {},
   "outputs": [],
   "source": [
    "import numpy as np\n",
    "import pandas as pd\n",
    "import matplotlib.pyplot as plt\n",
    "import plotly as py\n",
    "import plotly.graph_objs as graphObj\n",
    "from plotly.offline import init_notebook_mode, iplot\n",
    "init_notebook_mode(connected=True)\n",
    "# embed the plots in notebook\n",
    "%matplotlib inline\n",
    "\n",
    "# Use either of these lines for grids or no grids\n",
    "plt.style.use('seaborn-whitegrid')    # grids in the plots\n",
    "#plt.style.use('seaborn-white')       # no grids in plots (default)\n",
    "\n",
    "# suppress warnings\n",
    "import warnings\n",
    "warnings.filterwarnings('ignore')"
   ]
  },
  {
   "cell_type": "code",
   "execution_count": null,
   "metadata": {},
   "outputs": [],
   "source": [
    "# get iris_data, define the column names as they are not present in the csv file\n",
    "iris_data = pd.read_csv(\"../datasets/iris.csv\", \n",
    "                        names = [\"sepal_l\", \"sepal_w\", \"petal_l\",\"petal_w\", \"class\"])"
   ]
  },
  {
   "cell_type": "code",
   "execution_count": null,
   "metadata": {},
   "outputs": [],
   "source": [
    "iris_data.head()"
   ]
  },
  {
   "cell_type": "code",
   "execution_count": null,
   "metadata": {},
   "outputs": [],
   "source": [
    "data = iris_data.groupby(iris_data['class']).mean()"
   ]
  },
  {
   "cell_type": "code",
   "execution_count": null,
   "metadata": {},
   "outputs": [],
   "source": [
    "data.head()"
   ]
  },
  {
   "cell_type": "code",
   "execution_count": null,
   "metadata": {},
   "outputs": [],
   "source": [
    "data['class'] = data.index"
   ]
  },
  {
   "cell_type": "code",
   "execution_count": null,
   "metadata": {},
   "outputs": [],
   "source": [
    "data.head()"
   ]
  },
  {
   "cell_type": "markdown",
   "metadata": {},
   "source": [
    "## Bar Plot for all features"
   ]
  },
  {
   "cell_type": "code",
   "execution_count": null,
   "metadata": {},
   "outputs": [],
   "source": [
    "fig1 = graphObj.Bar(x = data['class'], y = data['sepal_w'], name = 'Sepal Width', \n",
    "                     marker = dict(color = 'forestgreen',\n",
    "                     line = dict(color = 'rgb(0,0,0)', width = 1.5)), text = data['class'])"
   ]
  },
  {
   "cell_type": "code",
   "execution_count": null,
   "metadata": {},
   "outputs": [],
   "source": [
    "fig2 = graphObj.Bar(x = data['class'], y = data['sepal_l'], name = 'Sepal Length', \n",
    "                     marker = dict(color = 'dodgerblue',\n",
    "                     line = dict(color = 'rgb(0,0,0)', width = 1.5)), text = data['class'])"
   ]
  },
  {
   "cell_type": "code",
   "execution_count": null,
   "metadata": {},
   "outputs": [],
   "source": [
    "fig3 = graphObj.Bar(x = data['class'], y = data['petal_w'], name = 'Petal Width', \n",
    "                     marker = dict(color = 'darkslategray',\n",
    "                     line = dict(color = 'rgb(0,0,0)', width = 1.5)), text = data['class'])"
   ]
  },
  {
   "cell_type": "code",
   "execution_count": null,
   "metadata": {},
   "outputs": [],
   "source": [
    "fig4 = graphObj.Bar(x = data['class'], y = data['petal_l'], name = 'Petal Length', \n",
    "                     marker = dict(color = 'mediumblue',\n",
    "                     line = dict(color = 'rgb(0,0,0)', width = 1.5)), text = data['class'])"
   ]
  },
  {
   "cell_type": "code",
   "execution_count": null,
   "metadata": {},
   "outputs": [],
   "source": [
    "fdata = [fig1, fig2, fig3, fig4]\n",
    "layout_bar = graphObj.Layout(barmode = \"group\")\n",
    "fig_bar = graphObj.Figure(data = fdata, layout = layout_bar)\n",
    "iplot(fig_bar)"
   ]
  },
  {
   "cell_type": "markdown",
   "metadata": {},
   "source": [
    "<font color='midnightblue'>\n",
    "<span style=\"font-family:verdana; font-size:1.1em;\">\n",
    "Bar plot shows that the sepal width kinda remains constant where as the sepal length, petal length and petal width increase as we move from setosa -> versicolor -> virginica\n",
    "</span>\n",
    "</font>"
   ]
  },
  {
   "cell_type": "code",
   "execution_count": null,
   "metadata": {},
   "outputs": [],
   "source": [
    "figBubble = [\n",
    "    {\n",
    "        'x' : iris_data['petal_l'],\n",
    "        'y' : iris_data['petal_w'],\n",
    "        'mode' : 'markers',\n",
    "        'marker' : {\n",
    "            'color' : iris_data['sepal_w'],\n",
    "            'size'  : iris_data['sepal_l'],\n",
    "            'showscale' : True\n",
    "        },\n",
    "        'text' : iris_data['class']\n",
    "    }\n",
    "]"
   ]
  },
  {
   "cell_type": "code",
   "execution_count": null,
   "metadata": {},
   "outputs": [],
   "source": [
    "iplot(figBubble)"
   ]
  },
  {
   "cell_type": "markdown",
   "metadata": {},
   "source": [
    "## Box plot\n",
    "Box plots gives a good statistical information about the data"
   ]
  },
  {
   "cell_type": "code",
   "execution_count": null,
   "metadata": {},
   "outputs": [],
   "source": [
    "box1 = graphObj.Box(name = 'Sepal Length', y = iris_data['sepal_l'], marker = dict(color = 'cornflowerblue'))"
   ]
  },
  {
   "cell_type": "code",
   "execution_count": null,
   "metadata": {},
   "outputs": [],
   "source": [
    "box2 = graphObj.Box(name = 'Sepal Width', y = iris_data['sepal_w'], marker = dict(color = 'dodgerblue'))"
   ]
  },
  {
   "cell_type": "code",
   "execution_count": null,
   "metadata": {},
   "outputs": [],
   "source": [
    "box3 = graphObj.Box(name = 'Petal Length', y = iris_data['petal_l'], marker = dict(color = 'steelblue'))"
   ]
  },
  {
   "cell_type": "code",
   "execution_count": null,
   "metadata": {},
   "outputs": [],
   "source": [
    "box4 = graphObj.Box(name = ' Petal Width', y = iris_data['petal_w'], marker = dict(color = 'navy'))"
   ]
  },
  {
   "cell_type": "code",
   "execution_count": null,
   "metadata": {},
   "outputs": [],
   "source": [
    "bdata = [box1, box2, box3, box4]\n",
    "iplot(bdata)"
   ]
  },
  {
   "cell_type": "markdown",
   "metadata": {},
   "source": [
    "## Scatterplot Matrix"
   ]
  },
  {
   "cell_type": "code",
   "execution_count": null,
   "metadata": {},
   "outputs": [],
   "source": [
    "import plotly.figure_factory as figFac"
   ]
  },
  {
   "cell_type": "code",
   "execution_count": null,
   "metadata": {},
   "outputs": [],
   "source": [
    "cols = list(iris_data.columns)"
   ]
  },
  {
   "cell_type": "code",
   "execution_count": null,
   "metadata": {},
   "outputs": [],
   "source": [
    "cols.pop()"
   ]
  },
  {
   "cell_type": "code",
   "execution_count": null,
   "metadata": {},
   "outputs": [],
   "source": [
    "cols"
   ]
  },
  {
   "cell_type": "code",
   "execution_count": null,
   "metadata": {},
   "outputs": [],
   "source": [
    "data = iris_data.loc[:, cols]"
   ]
  },
  {
   "cell_type": "code",
   "execution_count": null,
   "metadata": {},
   "outputs": [],
   "source": [
    "# create index column starting with 1 rather than 0\n",
    "data['index'] = np.arange(1, len(data) + 1)"
   ]
  },
  {
   "cell_type": "code",
   "execution_count": null,
   "metadata": {},
   "outputs": [],
   "source": [
    "data['index']"
   ]
  },
  {
   "cell_type": "code",
   "execution_count": null,
   "metadata": {},
   "outputs": [],
   "source": [
    "fData = figFac.create_scatterplotmatrix(data, diag = 'box', index = 'index', colormap = 'YlGnBu',\n",
    "                                       colormap_type = 'cat', height = 900, width = 900)"
   ]
  },
  {
   "cell_type": "code",
   "execution_count": null,
   "metadata": {},
   "outputs": [],
   "source": [
    "iplot(fData)"
   ]
  },
  {
   "cell_type": "markdown",
   "metadata": {},
   "source": [
    "## 3D Scatter\n",
    "x : SepalLengthCm\n",
    "y : SepalWidthCm\n",
    "z : PetalLengthCm\n",
    "color : PetalWidthCm"
   ]
  },
  {
   "cell_type": "code",
   "execution_count": null,
   "metadata": {},
   "outputs": [],
   "source": [
    "plot3D = graphObj.Scatter3d(x = iris_data['sepal_l'],\n",
    "                            y = iris_data['sepal_w'],\n",
    "                            z = iris_data['petal_l'],\n",
    "                            mode = 'markers',\n",
    "                            opacity = 0.5,\n",
    "                            marker = dict(size = 4, color = iris_data['petal_w']))"
   ]
  },
  {
   "cell_type": "code",
   "execution_count": null,
   "metadata": {},
   "outputs": [],
   "source": [
    "plot3D = [plot3D]"
   ]
  },
  {
   "cell_type": "code",
   "execution_count": null,
   "metadata": {},
   "outputs": [],
   "source": [
    "fig3D = graphObj.Figure(data = plot3D)"
   ]
  },
  {
   "cell_type": "code",
   "execution_count": null,
   "metadata": {},
   "outputs": [],
   "source": [
    "iplot(fig3D)"
   ]
  }
 ],
 "metadata": {
  "kernelspec": {
   "display_name": "Python 3",
   "language": "python",
   "name": "python3"
  },
  "language_info": {
   "codemirror_mode": {
    "name": "ipython",
    "version": 3
   },
   "file_extension": ".py",
   "mimetype": "text/x-python",
   "name": "python",
   "nbconvert_exporter": "python",
   "pygments_lexer": "ipython3",
   "version": "3.7.6"
  }
 },
 "nbformat": 4,
 "nbformat_minor": 4
}
