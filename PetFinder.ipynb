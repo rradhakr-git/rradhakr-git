{
 "cells": [
  {
   "cell_type": "markdown",
   "metadata": {},
   "source": [
    "# Word Cloud on PetFinder datasets"
   ]
  },
  {
   "cell_type": "markdown",
   "metadata": {},
   "source": [
    "<font color='steelblue'>\n",
    "\n",
    "<span style=\"font-family:verdana; font-size:1.6em;\">\n",
    "    <b>PetFinder</b><br><br>\n",
    "    Petfinder dataset consists of cats/dogs information posted for adoption. These pets are based in Malaysia and can be found at University of California (Irvine)<br><br>\n",
    "    Word Cloud is visual representation object for text processing - shows most frequent words with a bigger and bolder font with different colors. Smaller size words indicate that they are less important.<br>\n",
    "</span>\n",
    "<span style=\"font-family:verdana; font-size:1.4em;\"><br>\n",
    "    <b>Following examples are included in the processing:</b>\n",
    "    <ol>\n",
    "        <li>Import train and test datasets </li>\n",
    "        <li>Merge them into a new dataset</li>\n",
    "        <li>Explore the Pet Type data</li>\n",
    "        <li>Apply wordcloud to Pet names and explore it</li>\n",
    "        <li>Check out the breed and breed subtype data</li>\n",
    "        <li>Use wordcloud on the description column</li>\n",
    "    </ol>    \n",
    "</span>\n",
    "\n",
    "</font>"
   ]
  },
  {
   "cell_type": "markdown",
   "metadata": {},
   "source": [
    "<font color='steelblue'>\n",
    "\n",
    "<span style=\"font-family:verdana; font-size:1.6em;\">\n",
    "    To install wordcloud (in anaconda terminal):\n",
    "    <ul>\n",
    "        <li>pip install wordcloud</li><br>\n",
    "        OR  <br><br>\n",
    "        <li>conda install -c conda-forge wordcloud</li>\n",
    "    </ul>\n",
    "</span>\n",
    "</font>"
   ]
  },
  {
   "cell_type": "markdown",
   "metadata": {},
   "source": [
    "## Data Fields\n",
    "- PetID - Unique hash ID of pet profile\n",
    "- AdoptionSpeed - Categorical speed of adoption. Lower is faster. This is the value to predict. See below section for more info.\n",
    "- Type - Type of animal (1 = Dog, 2 = Cat)\n",
    "- Name - Name of pet (Empty if not named)\n",
    "- Age - Age of pet when listed, in months\n",
    "- Breed1 - Primary breed of pet (Refer to BreedLabels dictionary)\n",
    "- Breed2 - Secondary breed of pet, if pet is of mixed breed (Refer to BreedLabels dictionary)\n",
    "- Gender - Gender of pet (1 = Male, 2 = Female, 3 = Mixed, if profile represents group of pets)\n",
    "- Color1 - Color 1 of pet (Refer to ColorLabels dictionary)\n",
    "- Color2 - Color 2 of pet (Refer to ColorLabels dictionary)\n",
    "- Color3 - Color 3 of pet (Refer to ColorLabels dictionary)\n",
    "- MaturitySize - Size at maturity (1 = Small, 2 = Medium, 3 = Large, 4 = Extra Large, 0 = Not Specified)\n",
    "- FurLength - Fur length (1 = Short, 2 = Medium, 3 = Long, 0 = Not Specified)\n",
    "- Vaccinated - Pet has been vaccinated (1 = Yes, 2 = No, 3 = Not Sure)\n",
    "- Dewormed - Pet has been dewormed (1 = Yes, 2 = No, 3 = Not Sure)\n",
    "- Sterilized - Pet has been spayed / neutered (1 = Yes, 2 = No, 3 = Not Sure)\n",
    "- Health - Health Condition (1 = Healthy, 2 = Minor Injury, 3 = Serious Injury, 0 = Not Specified)\n",
    "- Quantity - Number of pets represented in profile\n",
    "- Fee - Adoption fee (0 = Free)\n",
    "- State - State location in Malaysia (Refer to StateLabels dictionary)\n",
    "- RescuerID - Unique hash ID of rescuer\n",
    "- VideoAmt - Total uploaded videos for this pet\n",
    "- PhotoAmt - Total uploaded photos for this pet\n",
    "- Description - Profile write-up for this pet. The primary language used is English, with some in Malay or Chinese.\n"
   ]
  },
  {
   "cell_type": "markdown",
   "metadata": {},
   "source": [
    "## AdoptionSpeed\n",
    "\n",
    "### Values indicate following:\n",
    "0 - Pet was adopted on the same day as it was listed.<br>\n",
    "1 - Pet was adopted between 1 and 7 days (1st week) after being listed.<br>\n",
    "2 - Pet was adopted between 8 and 30 days (1st month) after being listed.<br>\n",
    "3 - Pet was adopted between 31 and 90 days (2nd & 3rd month) after being listed.<br>\n",
    "4 - No adoption after 100 days of being listed. (There are no pets in this dataset that waited between 90 and 100 days).<br> "
   ]
  },
  {
   "cell_type": "code",
   "execution_count": null,
   "metadata": {},
   "outputs": [],
   "source": [
    "import numpy as np \n",
    "import pandas as pd \n",
    "\n",
    "import seaborn as sns \n",
    "import matplotlib.pyplot as plt\n",
    "%matplotlib inline\n",
    "plt.style.use('ggplot')\n",
    "\n",
    "import warnings\n",
    "warnings.filterwarnings('ignore')\n",
    "\n",
    "pd.set_option(\"display.max_columns\", None)"
   ]
  },
  {
   "cell_type": "markdown",
   "metadata": {},
   "source": [
    "## Dataset processing"
   ]
  },
  {
   "cell_type": "code",
   "execution_count": null,
   "metadata": {},
   "outputs": [],
   "source": [
    "# read the training dataset\n",
    "train = pd.read_csv('../datasets/pet-train.csv', encoding = 'utf-8')"
   ]
  },
  {
   "cell_type": "code",
   "execution_count": null,
   "metadata": {},
   "outputs": [],
   "source": [
    "train.shape"
   ]
  },
  {
   "cell_type": "code",
   "execution_count": null,
   "metadata": {},
   "outputs": [],
   "source": [
    "# read the test dataset\n",
    "test = pd.read_csv('../datasets/pet-test.csv', encoding = 'utf-8')"
   ]
  },
  {
   "cell_type": "code",
   "execution_count": null,
   "metadata": {},
   "outputs": [],
   "source": [
    "test.shape"
   ]
  },
  {
   "cell_type": "code",
   "execution_count": null,
   "metadata": {},
   "outputs": [],
   "source": [
    "# add a column called dataset and set all its value to train\n",
    "# useful to know when merged with test data\n",
    "train['dataset'] = 'train'"
   ]
  },
  {
   "cell_type": "code",
   "execution_count": null,
   "metadata": {},
   "outputs": [],
   "source": [
    "# add a column called dataset and set all values to test\n",
    "test['dataset'] = 'test'"
   ]
  },
  {
   "cell_type": "code",
   "execution_count": null,
   "metadata": {},
   "outputs": [],
   "source": [
    "# create a new dataframe by merging the test dataset into train\n",
    "merged = train.append(test, ignore_index = True)"
   ]
  },
  {
   "cell_type": "code",
   "execution_count": null,
   "metadata": {},
   "outputs": [],
   "source": [
    "merged.shape"
   ]
  },
  {
   "cell_type": "code",
   "execution_count": null,
   "metadata": {},
   "outputs": [],
   "source": [
    "merged.head()"
   ]
  },
  {
   "cell_type": "code",
   "execution_count": null,
   "metadata": {},
   "outputs": [],
   "source": [
    "merged.tail()"
   ]
  },
  {
   "cell_type": "code",
   "execution_count": null,
   "metadata": {},
   "outputs": [],
   "source": [
    "merged.info()"
   ]
  },
  {
   "cell_type": "code",
   "execution_count": null,
   "metadata": {},
   "outputs": [],
   "source": [
    "merged.describe().transpose()"
   ]
  },
  {
   "cell_type": "code",
   "execution_count": null,
   "metadata": {},
   "outputs": [],
   "source": [
    "merged.describe(include = 'object').transpose()"
   ]
  },
  {
   "cell_type": "markdown",
   "metadata": {},
   "source": [
    "## Utility Functions"
   ]
  },
  {
   "cell_type": "code",
   "execution_count": null,
   "metadata": {},
   "outputs": [],
   "source": [
    "main_count = train['AdoptionSpeed'].value_counts(normalize=True).sort_index()\n",
    "def prepare_plot_dict(df, col, main_count):\n",
    "    \"\"\"\n",
    "    Preparing dictionary with data for plotting.\n",
    "    \n",
    "    I want to show how much higher/lower are the rates of Adoption speed for the current column comparing \n",
    "    to base values (as described higher), At first I calculate base rates, then for each category in the column \n",
    "    I calculate rates of Adoption speed and find difference with the base rates.\n",
    "    \n",
    "    \"\"\"\n",
    "    main_count = dict(main_count)\n",
    "    plot_dict = {}\n",
    "    for i in df[col].unique():\n",
    "        val_count = dict(df.loc[df[col] == i, 'AdoptionSpeed'].value_counts().sort_index())\n",
    "\n",
    "        for k, v in main_count.items():\n",
    "            if k in val_count:\n",
    "                plot_dict[val_count[k]] = ((val_count[k] / sum(val_count.values())) / main_count[k]) * 100 - 100\n",
    "            else:\n",
    "                plot_dict[0] = 0\n",
    "\n",
    "    return plot_dict\n",
    "\n",
    "def make_count_plot(df, x, hue='AdoptionSpeed', title='', main_count=main_count):\n",
    "    \"\"\"\n",
    "    Plotting countplot with correct annotations.\n",
    "    \"\"\"\n",
    "    g = sns.countplot(x=x, data=df, hue=hue);\n",
    "    plt.title(f'AdoptionSpeed {title}');\n",
    "    ax = g.axes\n",
    "\n",
    "    plot_dict = prepare_plot_dict(df, x, main_count)\n",
    "\n",
    "    for p in ax.patches:\n",
    "        h = p.get_height() if str(p.get_height()) != 'nan' else 0\n",
    "        text = f\"{plot_dict[h]:.0f}%\" if plot_dict[h] < 0 else f\"+{plot_dict[h]:.0f}%\"\n",
    "        ax.annotate(text, (p.get_x() + p.get_width() / 2., h),\n",
    "             ha='center', va='center', fontsize=11, color='green' if plot_dict[h] > 0 else 'red', \n",
    "                    rotation=0, xytext=(0, 10),\n",
    "             textcoords='offset points')  \n",
    "\n",
    "\n",
    "def plot_four_graphs(col='', main_title='', dataset_title=''):\n",
    "    \"\"\"\n",
    "    Plotting four graphs:\n",
    "    - adoption speed by variable;\n",
    "    - counts of categories in the variable in train and test;\n",
    "    - adoption speed by variable for dogs;\n",
    "    - adoption speed by variable for cats;    \n",
    "    \"\"\"\n",
    "    plt.figure(figsize=(20, 12));\n",
    "    plt.subplot(2, 2, 1)\n",
    "    make_count_plot(df=train, x=col, title=f'and {main_title}')\n",
    "\n",
    "    plt.subplot(2, 2, 2)\n",
    "    sns.countplot(x='dataset', data=merged, hue=col);\n",
    "    plt.title(dataset_title);\n",
    "\n",
    "    plt.subplot(2, 2, 3)\n",
    "    make_count_plot(df=train.loc[train['Type'] == 1], x=col, title=f'and {main_title} for dogs')\n",
    "\n",
    "    plt.subplot(2, 2, 4)\n",
    "    make_count_plot(df=train.loc[train['Type'] == 2], x=col, title=f'and {main_title} for cats')"
   ]
  },
  {
   "cell_type": "markdown",
   "metadata": {},
   "source": [
    "## Adoption Speed Exploration"
   ]
  },
  {
   "cell_type": "code",
   "execution_count": null,
   "metadata": {},
   "outputs": [],
   "source": [
    "# plot the adoption speed for the overall dataset\n",
    "merged['AdoptionSpeed'].value_counts().sort_index().plot(kind = 'barh', color='steelblue')\n",
    "plt.xlabel('count')\n",
    "plt.ylabel('days')\n",
    "plt.title('Adoption speed classes counts')\n",
    "plt.show()"
   ]
  },
  {
   "cell_type": "code",
   "execution_count": null,
   "metadata": {},
   "outputs": [],
   "source": [
    "# plot the adoption speed from the training dataset\n",
    "plt.figure(figsize=(14, 6));\n",
    "g = sns.countplot(x='AdoptionSpeed', data=merged.loc[merged['dataset'] == 'train']);\n",
    "plt.title('Adoption speed classes rates');\n",
    "ax=g.axes"
   ]
  },
  {
   "cell_type": "code",
   "execution_count": null,
   "metadata": {},
   "outputs": [],
   "source": [
    "# plot the same informaion as above - add percentages for each class\n",
    "plt.figure(figsize=(14, 8));\n",
    "g = sns.countplot(x='AdoptionSpeed', data=merged.loc[merged['dataset'] == 'train'])\n",
    "plt.title('Adoption speed classes rates');\n",
    "ax=g.axes\n",
    "for p in ax.patches:\n",
    "     ax.annotate(f\"{p.get_height() * 100 / train.shape[0]:.2f}%\", (p.get_x() + p.get_width() / 2., p.get_height()),\n",
    "         ha='center', va='center', fontsize=11, color='gray', rotation=0, xytext=(0, 10),\n",
    "         textcoords='offset points')  "
   ]
  },
  {
   "cell_type": "markdown",
   "metadata": {},
   "source": [
    "<font color='teal'>\n",
    "\n",
    "<span style=\"font-family:verdana; font-size:1.2em;\">\n",
    "\n",
    "We can see that some pets were adopted immediately, but these are rare cases: maybe someone wanted to adopt any pet, or the pet was lucky to be seen by person, who wanted a similar pet.\n",
    "\n",
    "It is nice that a lot of pets are adopted within a first week of being listed!\n",
    "\n",
    "One more interesting thing is that the classes have a linear relationship - the higher the number, the worse situation is. So it could be possible to build not only multiclass classification, but also regression.\n",
    "\n",
    "</span>\n",
    "</font>"
   ]
  },
  {
   "cell_type": "markdown",
   "metadata": {},
   "source": [
    "## Pet Type\n",
    "### 1 is Dog, 2 is Cat"
   ]
  },
  {
   "cell_type": "code",
   "execution_count": null,
   "metadata": {},
   "outputs": [],
   "source": [
    "merged['Type'].unique()\n",
    "merged['Type'].value_counts()"
   ]
  },
  {
   "cell_type": "code",
   "execution_count": null,
   "metadata": {},
   "outputs": [],
   "source": [
    "# Convert the pet type\n",
    "merged['Type'] = merged['Type'].apply(lambda x: 'Dog' if x == 1 else 'Cat')\n",
    "merged['Type'].value_counts()"
   ]
  },
  {
   "cell_type": "code",
   "execution_count": null,
   "metadata": {},
   "outputs": [],
   "source": [
    "plt.figure(figsize=(10, 8));\n",
    "sns.countplot(x='dataset', data = merged, hue = 'Type');\n",
    "plt.title('Number of cats and dogs in train and test data');"
   ]
  },
  {
   "cell_type": "code",
   "execution_count": null,
   "metadata": {},
   "outputs": [],
   "source": [
    "plt.figure(figsize=(18, 8));\n",
    "make_count_plot(df=merged.loc[merged['dataset'] == 'train'], x='Type', title='by pet Type')"
   ]
  },
  {
   "cell_type": "markdown",
   "metadata": {},
   "source": [
    "<font color='teal'>\n",
    "\n",
    "<span style=\"font-family:verdana; font-size:1.2em;\">\n",
    "We can see that cats are more likely to be adopted early than dogs and overall the percentage of not adopted cats is lower. Does this mean people prefer cats? <br>\n",
    "    Or maybe this dataset is small and could contain bias. On the other hand more dogs are adopted after several months.\n",
    "</span>\n",
    "</font>"
   ]
  },
  {
   "cell_type": "markdown",
   "metadata": {},
   "source": [
    "## Pet Name <br>\n",
    "<font color='gray'>\n",
    "\n",
    "<span style=\"font-family:verdana; font-size:1.2em;\">\n",
    "Are names important in adoption?<br>\n",
    "At first let's look at most common names using wordcloud\n",
    "</span>\n",
    "</font>"
   ]
  },
  {
   "cell_type": "code",
   "execution_count": null,
   "metadata": {},
   "outputs": [],
   "source": [
    "from wordcloud import WordCloud\n",
    "from PIL import Image\n",
    "\n",
    "fig, ax = plt.subplots(figsize = (16, 12))\n",
    "# nrows, ncols, index\n",
    "# index 1 means upper left corner and increases to right\n",
    "plt.subplot(1, 2, 1)\n",
    "text_cat = ' '.join(merged.loc[merged['Type'] == 'Cat', 'Name'].fillna('').values)\n",
    "wordcloud = WordCloud(max_font_size=None, background_color='white',\n",
    "                      width=1200, height=1000).generate(text_cat)\n",
    "plt.imshow(wordcloud)\n",
    "plt.title('Top cat names', fontsize = 30)\n",
    "plt.axis(\"off\")\n",
    "\n",
    "#index 2 means second column\n",
    "plt.subplot(1, 2, 2)\n",
    "text_dog = ' '.join(merged.loc[merged['Type'] == 'Dog', 'Name'].fillna('').values)\n",
    "wordcloud = WordCloud(max_font_size=None, background_color='white',\n",
    "                      width=1200, height=1000).generate(text_dog)\n",
    "plt.imshow(wordcloud)\n",
    "plt.title('Top dog names', fontsize = 30)\n",
    "plt.axis(\"off\")\n",
    "\n",
    "plt.show()"
   ]
  },
  {
   "cell_type": "markdown",
   "metadata": {},
   "source": [
    "<font color='gray'>\n",
    "\n",
    "<span style=\"font-family:verdana; font-size:1.2em;\">\n",
    "It is worth noticing some things:\n",
    "\n",
    "    - Often we see normal pet names like \"Mimi\", \"Angel\" and so on;\n",
    "    - Quite often people write simply who is there for adoption: \"Kitten\", \"Puppies\";\n",
    "    - Vety often the color of pet is written, sometimes gender;\n",
    "    - And it seems that sometimes names can be strange or there is some info written instead of the name;\n",
    "\n",
    "One more thing to notice is that some pets don't have names. Let's see whether this is important\n",
    "    </span>\n",
    "    </font>"
   ]
  },
  {
   "cell_type": "markdown",
   "metadata": {},
   "source": [
    "## Most popular pet names and adoption speed"
   ]
  },
  {
   "cell_type": "code",
   "execution_count": null,
   "metadata": {},
   "outputs": [],
   "source": [
    "print('Most popular pet names and AdoptionSpeed')\n",
    "for n in train['Name'].value_counts().index[:5]:\n",
    "    print(\"pet name: {}\".format(n))\n",
    "    print(train.loc[train['Name'] == n, 'AdoptionSpeed'].value_counts().sort_index())\n",
    "    print('')"
   ]
  },
  {
   "cell_type": "code",
   "execution_count": null,
   "metadata": {},
   "outputs": [],
   "source": [
    "train['Name'] = train['Name'].fillna('Unnamed')\n",
    "test['Name'] = test['Name'].fillna('Unnamed')\n",
    "merged['Name'] = merged['Name'].fillna('Unnamed')\n",
    "\n",
    "train['No_name'] = 0\n",
    "train.loc[train['Name'] == 'Unnamed', 'No_name'] = 1\n",
    "test['No_name'] = 0\n",
    "test.loc[test['Name'] == 'Unnamed', 'No_name'] = 1\n",
    "merged['No_name'] = 0\n",
    "merged.loc[merged['Name'] == 'Unnamed', 'No_name'] = 1\n",
    "\n",
    "print(f\"Percentage of unnamed pets in train data: {train['No_name'].sum() * 100 / train['No_name'].shape[0]:.2f}%.\")\n",
    "print(f\"Percentage of unnamed pets in test data:  {test['No_name'].sum() * 100 / test['No_name'].shape[0]:.2f}%.\")"
   ]
  },
  {
   "cell_type": "code",
   "execution_count": null,
   "metadata": {},
   "outputs": [],
   "source": [
    "plt.figure(figsize=(18, 8))\n",
    "make_count_plot(df=merged.loc[merged['dataset'] == 'train'], x='No_name', title='and having a name')"
   ]
  },
  {
   "cell_type": "markdown",
   "metadata": {},
   "source": [
    "## Breeds<br>\n",
    "<font color='gray'>\n",
    "\n",
    "<span style=\"font-family:verdana; font-size:1.2em;\">\n",
    "    There is a main breed of the pet and secondary if relevant<br>\n",
    "    At first let's see whether having secondary breed influences adoption speed.\n",
    "</span>\n",
    "</font>"
   ]
  },
  {
   "cell_type": "code",
   "execution_count": null,
   "metadata": {},
   "outputs": [],
   "source": [
    "train['Pure_breed'] = 0\n",
    "train.loc[train['Breed2'] == 0, 'Pure_breed'] = 1\n",
    "test['Pure_breed'] = 0\n",
    "test.loc[test['Breed2'] == 0, 'Pure_breed'] = 1\n",
    "merged['Pure_breed'] = 0\n",
    "merged.loc[merged['Breed2'] == 0, 'Pure_breed'] = 1\n",
    "\n",
    "print(f\"Rate of pure breed pets in train data: {train['Pure_breed'].sum() * 100 / train['Pure_breed'].shape[0]:.2f}%.\")\n",
    "print(f\"Rate of pure breed pets in test data: {test['Pure_breed'].sum() * 100 / test['Pure_breed'].shape[0]:.2f}%.\")"
   ]
  },
  {
   "cell_type": "code",
   "execution_count": null,
   "metadata": {},
   "outputs": [],
   "source": [
    "plot_four_graphs(col='Pure_breed', main_title='having pure breed', \n",
    "                 dataset_title='Number of pets by pure/not-pure breed in train and test data')"
   ]
  },
  {
   "cell_type": "markdown",
   "metadata": {},
   "source": [
    "<font color='teal'>\n",
    "\n",
    "<span style=\"font-family:verdana; font-size:1.2em;\">\n",
    "It seems that non-pure breed pets tend to be adopted more and faster, especially cats<br>\n",
    "Let's look at the breeds themselves\n",
    "</span>\n",
    "</font>"
   ]
  },
  {
   "cell_type": "code",
   "execution_count": null,
   "metadata": {},
   "outputs": [],
   "source": [
    "# load the bread type and names\n",
    "breeds = pd.read_csv('../datasets/breed_labels.csv', encoding = 'utf-8')"
   ]
  },
  {
   "cell_type": "code",
   "execution_count": null,
   "metadata": {},
   "outputs": [],
   "source": [
    "breeds.head()"
   ]
  },
  {
   "cell_type": "code",
   "execution_count": null,
   "metadata": {},
   "outputs": [],
   "source": [
    "# Create a dictionary of BreedID and BreedName\n",
    "breeds_dict = {k: v for k, v in zip(breeds['BreedID'], breeds['BreedName'])}"
   ]
  },
  {
   "cell_type": "code",
   "execution_count": null,
   "metadata": {},
   "outputs": [],
   "source": [
    "print(breeds_dict)"
   ]
  },
  {
   "cell_type": "code",
   "execution_count": null,
   "metadata": {},
   "outputs": [],
   "source": [
    "# Create Breed name and the subtype (if no subtype then put '-')\n",
    "\n",
    "train['Breed1_name'] = train['Breed1'].apply(lambda x: '_'.join(breeds_dict[x].split()) \n",
    "                                             if x in breeds_dict else 'Unknown')\n",
    "train['Breed2_name'] = train['Breed2'].apply(lambda x: '_'.join(breeds_dict[x]) \n",
    "                                             if x in breeds_dict else '-')\n",
    "\n",
    "test['Breed1_name'] = test['Breed1'].apply(lambda x: '_'.join(breeds_dict[x].split()) \n",
    "                                           if x in breeds_dict else 'Unknown')\n",
    "test['Breed2_name'] = test['Breed2'].apply(lambda x: '_'.join(breeds_dict[x].split()) \n",
    "                                           if x in breeds_dict else '-')\n",
    "\n",
    "merged['Breed1_name'] = merged['Breed1'].apply(lambda x: '_'.join(breeds_dict[x].split()) \n",
    "                                               if x in breeds_dict else 'Unknown')\n",
    "merged['Breed2_name'] = merged['Breed2'].apply(lambda x: '_'.join(breeds_dict[x].split()) \n",
    "                                               if x in breeds_dict else '-')"
   ]
  },
  {
   "cell_type": "code",
   "execution_count": null,
   "metadata": {},
   "outputs": [],
   "source": [
    "cols = ['Breed1', 'Breed2', 'Breed1_name', 'Breed2_name', 'Pure_breed']\n",
    "merged[cols]"
   ]
  },
  {
   "cell_type": "code",
   "execution_count": null,
   "metadata": {},
   "outputs": [],
   "source": [
    "# Apply wordcloud to the columns created above - apply to both types of pets\n",
    "fig, ax = plt.subplots(figsize = (20, 18))\n",
    "plt.subplot(2, 2, 1)\n",
    "text_cat1 = ' '.join(merged.loc[merged['Type'] == 'Cat', 'Breed1_name'].fillna('').values)\n",
    "wordcloud = WordCloud(max_font_size=None, background_color='white', collocations=False,\n",
    "                      width=1200, height=1000).generate(text_cat1)\n",
    "plt.imshow(wordcloud)\n",
    "plt.title('Top cat breed1', fontsize = 20)\n",
    "plt.axis(\"off\")\n",
    "\n",
    "plt.subplot(2, 2, 2)\n",
    "text_dog1 = ' '.join(merged.loc[merged['Type'] == 'Dog', 'Breed1_name'].fillna('').values)\n",
    "wordcloud = WordCloud(max_font_size=None, background_color='white', collocations=False,\n",
    "                      width=1200, height=1000).generate(text_dog1)\n",
    "plt.imshow(wordcloud)\n",
    "plt.title('Top dog breed1', fontsize = 20)\n",
    "plt.axis(\"off\")\n",
    "\n",
    "plt.subplot(2, 2, 3)\n",
    "text_cat2 = ' '.join(merged.loc[merged['Type'] == 'Cat', 'Breed2_name'].fillna('').values)\n",
    "wordcloud = WordCloud(max_font_size=None, background_color='white', collocations=False,\n",
    "                      width=1200, height=1000).generate(text_cat2)\n",
    "plt.imshow(wordcloud)\n",
    "plt.title('Top cat breed2', fontsize = 20)\n",
    "plt.axis(\"off\")\n",
    "\n",
    "plt.subplot(2, 2, 4)\n",
    "text_dog2 = ' '.join(merged.loc[merged['Type'] == 'Dog', 'Breed2_name'].fillna('').values)\n",
    "wordcloud = WordCloud(max_font_size=None, background_color='white', collocations=False,\n",
    "                      width=1200, height=1000).generate(text_dog2)\n",
    "plt.imshow(wordcloud)\n",
    "plt.title('Top dog breed2', fontsize = 20)\n",
    "plt.axis(\"off\")\n",
    "plt.show()"
   ]
  },
  {
   "cell_type": "markdown",
   "metadata": {},
   "source": [
    "\n",
    "<font color='teal'>\n",
    "\n",
    "<span style=\"font-family:verdana; font-size:1.2em;\">\n",
    "It seems that not all values of these features are really breeds.<br>\n",
    "Sometimes people simply write that the dogs has a mixed breed, cats often are described as domestic with certain hair length.<br>\n",
    "Now let's have a look at the combinations of breed names.\n",
    "</span>\n",
    "</font>"
   ]
  },
  {
   "cell_type": "code",
   "execution_count": null,
   "metadata": {},
   "outputs": [],
   "source": [
    "(merged['Breed1_name'] + '__' + merged['Breed2_name']).value_counts().head(15)"
   ]
  },
  {
   "cell_type": "markdown",
   "metadata": {},
   "source": [
    "## Description<br>\n",
    "<font color='gray'>\n",
    "\n",
    "<span style=\"font-family:verdana; font-size:1.2em;\">\n",
    "    Description could have lot of useful information ... explore it with wordcloud\n",
    "</span>\n",
    "</font>"
   ]
  },
  {
   "cell_type": "code",
   "execution_count": null,
   "metadata": {},
   "outputs": [],
   "source": [
    "fig, ax = plt.subplots(figsize = (12, 8))\n",
    "text_cat = ' '.join(merged['Description'].fillna('').values)\n",
    "wordcloud = WordCloud(max_font_size=None, background_color='white',\n",
    "                      width=1200, height=1000).generate(text_cat)\n",
    "plt.imshow(wordcloud)\n",
    "plt.title('Top words in description\\n', fontsize = 30)\n",
    "plt.axis(\"off\")"
   ]
  },
  {
   "cell_type": "code",
   "execution_count": null,
   "metadata": {},
   "outputs": [],
   "source": [
    "# Create new columns - description length and number of words in description\n",
    "train['Description'] = train['Description'].fillna('')\n",
    "test['Description'] = test['Description'].fillna('')\n",
    "merged['Description'] = merged['Description'].fillna('')\n",
    "\n",
    "train['desc_length'] = train['Description'].apply(lambda x: len(x))\n",
    "train['desc_words'] = train['Description'].apply(lambda x: len(x.split()))\n",
    "\n",
    "test['desc_length'] = test['Description'].apply(lambda x: len(x))\n",
    "test['desc_words'] = test['Description'].apply(lambda x: len(x.split()))\n",
    "\n",
    "merged['desc_length'] = merged['Description'].apply(lambda x: len(x))\n",
    "merged['desc_words'] = merged['Description'].apply(lambda x: len(x.split()))\n",
    "\n",
    "train['average_word_length'] = train['desc_length'] / train['desc_words']\n",
    "test['average_word_length'] = test['desc_length'] / test['desc_words']\n",
    "merged['average_word_length'] = merged['desc_length'] / merged['desc_words']"
   ]
  },
  {
   "cell_type": "code",
   "execution_count": null,
   "metadata": {},
   "outputs": [],
   "source": [
    "plt.figure(figsize=(16, 6));\n",
    "plt.subplot(1, 2, 1)\n",
    "sns.violinplot(x=\"AdoptionSpeed\", y=\"desc_length\", hue=\"Type\", data=train);\n",
    "plt.title('AdoptionSpeed by Type and description length\\n');\n",
    "\n",
    "plt.subplot(1, 2, 2)\n",
    "sns.violinplot(x=\"AdoptionSpeed\", y=\"desc_words\", hue=\"Type\", data=train);\n",
    "plt.title('AdoptionSpeed by Type and count of words in description\\n');"
   ]
  },
  {
   "cell_type": "markdown",
   "metadata": {},
   "source": [
    "<font color='teal'>\n",
    "\n",
    "<span style=\"font-family:verdana; font-size:1.2em;\">\n",
    "Interestingly pets with short text in ads are adopted quickly.<br>\n",
    "Or maybe longer descriptions mean more problems in the pets, therefore adoption speed is lower?\n",
    "</span>\n",
    "</font>"
   ]
  }
 ],
 "metadata": {
  "kernelspec": {
   "display_name": "Python 3",
   "language": "python",
   "name": "python3"
  },
  "language_info": {
   "codemirror_mode": {
    "name": "ipython",
    "version": 3
   },
   "file_extension": ".py",
   "mimetype": "text/x-python",
   "name": "python",
   "nbconvert_exporter": "python",
   "pygments_lexer": "ipython3",
   "version": "3.7.6"
  }
 },
 "nbformat": 4,
 "nbformat_minor": 4
}
