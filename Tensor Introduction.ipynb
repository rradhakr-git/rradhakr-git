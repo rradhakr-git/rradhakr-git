{
 "cells": [
  {
   "cell_type": "markdown",
   "metadata": {},
   "source": [
    "# TensorFlow Introduction"
   ]
  },
  {
   "cell_type": "markdown",
   "metadata": {},
   "source": [
    "<font color='steelblue'>\n",
    "\n",
    "<span style=\"font-family:Arial; font-size:1.6em;\">\n",
    "    <b>TensorFlow (Tensor) Examples</b><br><br>\n",
    "    Number of examples of using Tensors in tensorflow<br><br>\n",
    "</span>\n",
    "<span style=\"font-family:Arial; font-size:1.4em;\">\n",
    "    <b>Following examples are included in the processing:</b>\n",
    "    <ol>\n",
    "        <li>Basic Tensors - different ranks</li>\n",
    "        <li>Tensor shapes</li>\n",
    "        <li>Tensor Indexing</li>\n",
    "        <li>Resphaping Tensors</li>\n",
    "    </ol>    \n",
    "</span>\n",
    "\n",
    "</font>"
   ]
  },
  {
   "cell_type": "code",
   "execution_count": null,
   "metadata": {},
   "outputs": [],
   "source": [
    "import tensorflow as tf\n",
    "import numpy as np"
   ]
  },
  {
   "cell_type": "code",
   "execution_count": null,
   "metadata": {},
   "outputs": [],
   "source": [
    "tf.__version__"
   ]
  },
  {
   "cell_type": "markdown",
   "metadata": {},
   "source": [
    "<font color='tomato'>\n",
    "    <h2>Tensors are immutable - cannot update them, only create a new one</h2>\n",
    "</font>"
   ]
  },
  {
   "cell_type": "markdown",
   "metadata": {},
   "source": [
    "# Basic Tensors"
   ]
  },
  {
   "cell_type": "markdown",
   "metadata": {},
   "source": [
    "### Zero rank tensor (constant)"
   ]
  },
  {
   "cell_type": "code",
   "execution_count": null,
   "metadata": {},
   "outputs": [],
   "source": [
    "# data type is int32\n",
    "\n",
    "rankZero = tf.constant(10)\n",
    "\n",
    "rankZero"
   ]
  },
  {
   "cell_type": "markdown",
   "metadata": {},
   "source": [
    "### Rank 1 tensor (vector)"
   ]
  },
  {
   "cell_type": "code",
   "execution_count": null,
   "metadata": {},
   "outputs": [],
   "source": [
    "# data type is float32\n",
    "rankOne = tf.constant([0.0, 1.0, 1.0, 2.0, 3.0, 5.0, 8.0, 13.0, 21.0, 34.0])\n",
    "\n",
    "print(rankOne)\n",
    "\n",
    "rankOne"
   ]
  },
  {
   "cell_type": "markdown",
   "metadata": {},
   "source": [
    "### Rank 2 tensor (matrix) - has 2 axes"
   ]
  },
  {
   "cell_type": "code",
   "execution_count": null,
   "metadata": {},
   "outputs": [],
   "source": [
    "rankTwo = tf.constant([[1, 2], [3, 4], [5, 6]], dtype=tf.float64)\n",
    "print(rankTwo)"
   ]
  },
  {
   "cell_type": "markdown",
   "metadata": {},
   "source": [
    "### Tensor with 3 axes (dimensions)"
   ]
  },
  {
   "cell_type": "code",
   "execution_count": null,
   "metadata": {},
   "outputs": [],
   "source": [
    "rankThree = tf.constant([\n",
    "  [[10, 11, 12, 13, 14],\n",
    "   [15, 16, 17, 18, 19]],\n",
    "  [[20, 21, 22, 23, 24],\n",
    "   [25, 26, 27, 28, 29]],\n",
    "  [[30, 31, 32, 33, 34],\n",
    "   [35, 36, 37, 38, 39]],])\n",
    "\n",
    "print(rankThree)"
   ]
  },
  {
   "cell_type": "markdown",
   "metadata": {},
   "source": [
    "### Convert Tensor to NumPy array (Couple of ways)"
   ]
  },
  {
   "cell_type": "code",
   "execution_count": null,
   "metadata": {},
   "outputs": [],
   "source": [
    "rankThree.numpy()"
   ]
  },
  {
   "cell_type": "code",
   "execution_count": null,
   "metadata": {},
   "outputs": [],
   "source": [
    "a = np.array(rankThree)\n",
    "print(type(a))"
   ]
  },
  {
   "cell_type": "code",
   "execution_count": null,
   "metadata": {},
   "outputs": [],
   "source": [
    "a"
   ]
  },
  {
   "cell_type": "markdown",
   "metadata": {},
   "source": [
    "# tf.Tensor<br>\n",
    "<font color='gray'>\n",
    "\n",
    "<span style=\"font-family:Arial; font-size:1.4em;\">\n",
    "    <ul>\n",
    "        <li>tf.Tensor class used in many datasets requires the tensors to be rectangular - along each axis, every element is the same size</li>\n",
    "        <li>tf.Tensor supports addition, element-wise multiplication and matrix multiplication</li>\n",
    "    </ul>\n",
    "    </span>\n",
    "</font>"
   ]
  },
  {
   "cell_type": "code",
   "execution_count": null,
   "metadata": {},
   "outputs": [],
   "source": [
    "x = tf.constant([[1, 2], [3, 4]])\n",
    "x"
   ]
  },
  {
   "cell_type": "code",
   "execution_count": null,
   "metadata": {},
   "outputs": [],
   "source": [
    "y = tf.constant([[2, 3], [2, 3]])\n",
    "y"
   ]
  },
  {
   "cell_type": "code",
   "execution_count": null,
   "metadata": {},
   "outputs": [],
   "source": [
    "print(tf.add(x, y), \"\\n\")\n",
    "print(tf.multiply(x, y), \"\\n\")\n",
    "print(tf.matmul(x, y), \"\\n\")"
   ]
  },
  {
   "cell_type": "code",
   "execution_count": null,
   "metadata": {},
   "outputs": [],
   "source": [
    "z = tf.constant([[4.0, 5.0], [10.0, 1.0]])\n",
    "print(z)"
   ]
  },
  {
   "cell_type": "code",
   "execution_count": null,
   "metadata": {},
   "outputs": [],
   "source": [
    "# find the index of max value\n",
    "print(tf.argmax(z))"
   ]
  },
  {
   "cell_type": "code",
   "execution_count": null,
   "metadata": {},
   "outputs": [],
   "source": [
    "# Find the largest value\n",
    "print(tf.reduce_max(z))"
   ]
  },
  {
   "cell_type": "markdown",
   "metadata": {},
   "source": [
    "# Tensor Shapes<br>\n",
    "<font color='gray'>\n",
    "\n",
    "<span style=\"font-family:Arial; font-size:1.4em;\">\n",
    "    <ul>\n",
    "        <li><b>Shape: </b>The length (number of elements) of each of the dimensions of a tensor</li>\n",
    "        <li><b>Rank: </b>Number of tensor dimensions. A scalar has rank 0, a vector has rank 1, a matrix is rank 2</li>\n",
    "        <li><b>Dimension or Axis: </b>A particular dimension of a tensor</li>\n",
    "        <li><b>Size: </b>The total number of items in the tensor, the product shape vector</li>\n",
    "    </ul>\n",
    "    Tensors and tf.TensorShape provide useful properties for accessing information\n",
    "    </span>\n",
    "</font>"
   ]
  },
  {
   "cell_type": "code",
   "execution_count": null,
   "metadata": {},
   "outputs": [],
   "source": [
    "# 4 dimension tensor initialized to zeros\n",
    "rankFour = tf.zeros([3, 2, 4, 5])"
   ]
  },
  {
   "cell_type": "code",
   "execution_count": null,
   "metadata": {},
   "outputs": [],
   "source": [
    "print(\"Type of every element:\", rankFour.dtype)\n",
    "print(\"Number of dimensions:\", rankFour.ndim)\n",
    "print(\"Shape of tensor:\", rankFour.shape)\n",
    "print(\"Elements along axis 0 of tensor:\", rankFour.shape[0])\n",
    "print(\"Elements along the last axis of tensor:\", rankFour.shape[-1])\n",
    "print(\"Total number of elements (3*2*4*5): \", tf.size(rankFour))\n",
    "print(\"Total number of elements (3*2*4*5): \", tf.size(rankFour).numpy())"
   ]
  },
  {
   "cell_type": "markdown",
   "metadata": {},
   "source": [
    "# Tensor Indexing<br>\n",
    "<font color='gray'>\n",
    "\n",
    "<span style=\"font-family:Arial; font-size:1.4em;\">\n",
    "    <ul>\n",
    "        <li>Zero based indexing</li>\n",
    "        <li>Can use negative indexing (counts backwards), starts with -1</li>\n",
    "        <li>Just like python list use colons <i>start:stop:step</i></li>\n",
    "    </ul>\n",
    "    </span>\n",
    "</font>"
   ]
  },
  {
   "cell_type": "markdown",
   "metadata": {},
   "source": [
    "### Single dimension indexing"
   ]
  },
  {
   "cell_type": "code",
   "execution_count": null,
   "metadata": {},
   "outputs": [],
   "source": [
    "print(rankOne.numpy())"
   ]
  },
  {
   "cell_type": "code",
   "execution_count": null,
   "metadata": {},
   "outputs": [],
   "source": [
    "print(\"First:\", rankOne[0].numpy())\n",
    "print(\"Second:\", rankOne[1].numpy())\n",
    "print(\"Last:\", rankOne[-1].numpy())"
   ]
  },
  {
   "cell_type": "code",
   "execution_count": null,
   "metadata": {
    "scrolled": true
   },
   "outputs": [],
   "source": [
    "# like python list slicing\n",
    "print(\"Everything:\", rankOne[:].numpy())\n",
    "print(\"Before 4:\", rankOne[:4].numpy())\n",
    "print(\"From 4 to the end:\", rankOne[4:].numpy())\n",
    "print(\"From 2, before 7:\", rankOne[2:7].numpy())\n",
    "print(\"Every other item:\", rankOne[::2].numpy())\n",
    "print(\"Reversed:\", rankOne[::-1].numpy())"
   ]
  },
  {
   "cell_type": "markdown",
   "metadata": {},
   "source": [
    "### Multi dimension/axis indexing"
   ]
  },
  {
   "cell_type": "code",
   "execution_count": null,
   "metadata": {},
   "outputs": [],
   "source": [
    "print(rankTwo.numpy())"
   ]
  },
  {
   "cell_type": "code",
   "execution_count": null,
   "metadata": {},
   "outputs": [],
   "source": [
    "# Get single value from a 2-rank tensor\n",
    "print(rankTwo[1, 1].numpy())"
   ]
  },
  {
   "cell_type": "code",
   "execution_count": null,
   "metadata": {},
   "outputs": [],
   "source": [
    "print(\"Second row:\", rankTwo[1, :].numpy())\n",
    "print(\"Second column:\", rankTwo[:, 1].numpy())\n",
    "print(\"Last row:\", rankTwo[-1, :].numpy())\n",
    "print(\"First item in last column:\", rankTwo[0, -1].numpy())\n",
    "print(\"Skip the first row:\")\n",
    "print(rankTwo[1:, :].numpy(), \"\\n\")"
   ]
  },
  {
   "cell_type": "code",
   "execution_count": null,
   "metadata": {},
   "outputs": [],
   "source": [
    "print(rankThree.numpy())"
   ]
  },
  {
   "cell_type": "code",
   "execution_count": null,
   "metadata": {},
   "outputs": [],
   "source": [
    "# rankThree is (3 x 2 x 5) tensor\n",
    "# All values at index 4 of the last axis is printed\n",
    "print(rankThree[:, :, 4])"
   ]
  },
  {
   "cell_type": "markdown",
   "metadata": {},
   "source": [
    "## Manipulating Shape\n",
    "### Reshaping is very useful especially when handling images, texts data\n",
    "#### tf.reshape is very fast and cheap operation as the data does not need to be duplicated"
   ]
  },
  {
   "cell_type": "markdown",
   "metadata": {},
   "source": [
    "# Manipulating Shape<br>\n",
    "<font color='gray'>\n",
    "\n",
    "<span style=\"font-family:Arial; font-size:1.4em;\">\n",
    "    <ul>\n",
    "        <li>Reshaping is very useful especially when handling images, texts data</li>\n",
    "        <li><i><b>tf.reshape</b></i> is very fast and cheap operation as the data does not need to be duplicated</li>\n",
    "        <li>The data maintains its layout in memory and a new tensor is created, with the requested shape, pointing to the same data</li>\n",
    "    </ul>\n",
    "    </span>\n",
    "</font>"
   ]
  },
  {
   "cell_type": "code",
   "execution_count": null,
   "metadata": {},
   "outputs": [],
   "source": [
    "# Shape returns a `TensorShape` object that shows the size on each dimension\n",
    "x = tf.constant([[1], [2], [3]])\n",
    "print(x.shape)"
   ]
  },
  {
   "cell_type": "code",
   "execution_count": null,
   "metadata": {},
   "outputs": [],
   "source": [
    "# You can convert this object into a Python list, too\n",
    "print(x.shape.as_list())"
   ]
  },
  {
   "cell_type": "code",
   "execution_count": null,
   "metadata": {},
   "outputs": [],
   "source": [
    "# You can reshape a tensor to a new shape.\n",
    "# Note that you're passing in a list\n",
    "reshaped = tf.reshape(x, [1, 3])"
   ]
  },
  {
   "cell_type": "code",
   "execution_count": null,
   "metadata": {},
   "outputs": [],
   "source": [
    "print(x.shape)\n",
    "print(reshaped.shape)"
   ]
  },
  {
   "cell_type": "code",
   "execution_count": null,
   "metadata": {},
   "outputs": [],
   "source": [
    "print(rankThree)"
   ]
  },
  {
   "cell_type": "code",
   "execution_count": null,
   "metadata": {},
   "outputs": [],
   "source": [
    "# `-1` passed in the `shape` argument says \"Whatever fits\"\n",
    "# Flatten the tensor\n",
    "print(tf.reshape(rankThree, [-1]))"
   ]
  },
  {
   "cell_type": "code",
   "execution_count": null,
   "metadata": {},
   "outputs": [],
   "source": [
    "# reshape to (3x2)x5\n",
    "print(tf.reshape(rankThree, [6, 5]), \"\\n\")"
   ]
  },
  {
   "cell_type": "code",
   "execution_count": null,
   "metadata": {},
   "outputs": [],
   "source": [
    "# reshape to 3x(2x5)\n",
    "print(tf.reshape(rankThree, [3, -1]))"
   ]
  }
 ],
 "metadata": {
  "kernelspec": {
   "display_name": "Python 3",
   "language": "python",
   "name": "python3"
  },
  "language_info": {
   "codemirror_mode": {
    "name": "ipython",
    "version": 3
   },
   "file_extension": ".py",
   "mimetype": "text/x-python",
   "name": "python",
   "nbconvert_exporter": "python",
   "pygments_lexer": "ipython3",
   "version": "3.7.6"
  }
 },
 "nbformat": 4,
 "nbformat_minor": 4
}
