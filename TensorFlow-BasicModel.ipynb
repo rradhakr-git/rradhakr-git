{
 "cells": [
  {
   "cell_type": "markdown",
   "metadata": {},
   "source": [
    "# TensorFlow Basic Model"
   ]
  },
  {
   "cell_type": "markdown",
   "metadata": {},
   "source": [
    "<font color='steelblue'>\n",
    "\n",
    "<span style=\"font-family:Arial; font-size:1.6em;\">\n",
    "    <b>Building a Simple Model with TensorFlow and Keras</b><br><br>\n",
    "</span>\n",
    "<span style=\"font-family:Arial; font-size:1.4em;\">\n",
    "    <b>Following examples are included in the processing:</b>\n",
    "    <ol>\n",
    "        <li>Importing Tensorflow, Keras and Numpy libraries</li>\n",
    "        <li>Checking if tensorflow is set up imported</li>\n",
    "        <li>Create data for the model to train on</li>\n",
    "        <li>Define a neural network</li>\n",
    "        <li>Compile the model</li>\n",
    "        <li>Train the neural network to build a model</li>\n",
    "        <li>Make prediction with the model</li>\n",
    "    </ol>    \n",
    "</span>\n",
    "\n",
    "</font>"
   ]
  },
  {
   "cell_type": "code",
   "execution_count": null,
   "metadata": {},
   "outputs": [],
   "source": [
    "import tensorflow as tf\n",
    "import numpy as np\n",
    "from tensorflow import keras"
   ]
  },
  {
   "cell_type": "code",
   "execution_count": null,
   "metadata": {},
   "outputs": [],
   "source": [
    "import warnings\n",
    "warnings.simplefilter(action='ignore', category=FutureWarning)\n",
    "\n",
    "from tensorflow.python.util import deprecation\n",
    "deprecation._PRINT_DEPRECATION_WARNINGS = False"
   ]
  },
  {
   "cell_type": "code",
   "execution_count": null,
   "metadata": {},
   "outputs": [],
   "source": [
    "tf.__version__"
   ]
  },
  {
   "cell_type": "markdown",
   "metadata": {},
   "source": [
    "## verify the tensorflow import"
   ]
  },
  {
   "cell_type": "code",
   "execution_count": null,
   "metadata": {},
   "outputs": [],
   "source": [
    "# data of 1000 rows and 1000 columns\n",
    "data = tf.random.normal([1000, 1000])"
   ]
  },
  {
   "cell_type": "code",
   "execution_count": null,
   "metadata": {},
   "outputs": [],
   "source": [
    "data"
   ]
  },
  {
   "cell_type": "code",
   "execution_count": null,
   "metadata": {},
   "outputs": [],
   "source": [
    "data.shape"
   ]
  },
  {
   "cell_type": "code",
   "execution_count": null,
   "metadata": {},
   "outputs": [],
   "source": [
    "print(tf.reduce_sum(tf.random.normal([1000, 1000])))"
   ]
  },
  {
   "cell_type": "markdown",
   "metadata": {},
   "source": [
    "## Data for building the model<br>\n",
    "<font color='gray'>\n",
    " \n",
    "<span style=\"font-family:verdana; font-size:1.0em;\">\n",
    "    <h3>\n",
    "    X: -1, 0, 1, 2, 3, 4<br>\n",
    "    y: -2, 1, 4, 7, 10, 13<br><br>\n",
    "    Seems like the relation is y = 3X + 1\n",
    "    </h3>\n",
    "</font>"
   ]
  },
  {
   "cell_type": "code",
   "execution_count": null,
   "metadata": {},
   "outputs": [],
   "source": [
    "X = np.array([-1.0, 0.0, 1.0, 2.0, 3.0, 4.0], dtype=float)"
   ]
  },
  {
   "cell_type": "code",
   "execution_count": null,
   "metadata": {},
   "outputs": [],
   "source": [
    "y = np.array([-2.0, 1.0, 4.0, 7.0, 10.0, 13.0], dtype=float)"
   ]
  },
  {
   "cell_type": "markdown",
   "metadata": {},
   "source": [
    "## Define the neural network"
   ]
  },
  {
   "cell_type": "code",
   "execution_count": null,
   "metadata": {},
   "outputs": [],
   "source": [
    "model = tf.keras.Sequential([keras.layers.Dense(units=1, input_shape=[1])])"
   ]
  },
  {
   "cell_type": "markdown",
   "metadata": {},
   "source": [
    "## Compile the network<br>\n",
    "<font color = 'gray'>\n",
    "<span style=\"font-family:verdana; font-size:1.4em;\">\n",
    "    <b>Need to parameters to compile neural network:</b><em>\n",
    "    <ol>\n",
    "        <li>loss function</li>\n",
    "        <li>optimizer</li>\n",
    "    </ol>\n",
    "    </em>\n",
    "    When the computer is trying to learn that, it makes a guess, maybe Y=10X+10. The <b>loss</b> function measures the guessed answers against the known correct answers and measures how well or badly it did.<br><br>\n",
    "    Next, the model uses the <b>optimizer</b> function to make another guess. Based on the loss function's result, it tries to minimize the loss. At this point, maybe it will come up with something like Y=5X+5. While that's still pretty bad, it's closer to the correct result (the loss is lower).<br><br>\n",
    "    The model repeats that for the number of epochs, which you'll see shortly. First, here's how to tell it to use mean_squared_error for the loss and stochastic gradient descent (sgd) for the optimizer.   \n",
    "</span>\n",
    "</font>"
   ]
  },
  {
   "cell_type": "code",
   "execution_count": null,
   "metadata": {},
   "outputs": [],
   "source": [
    "model.compile(optimizer='sgd', loss='mean_squared_error')"
   ]
  },
  {
   "cell_type": "markdown",
   "metadata": {},
   "source": [
    "## Train the network to build a model"
   ]
  },
  {
   "cell_type": "code",
   "execution_count": null,
   "metadata": {},
   "outputs": [],
   "source": [
    "model.fit(X, y, epochs = 500, verbose = 1)"
   ]
  },
  {
   "cell_type": "code",
   "execution_count": null,
   "metadata": {},
   "outputs": [],
   "source": [
    "model.predict([10.0])"
   ]
  },
  {
   "cell_type": "markdown",
   "metadata": {},
   "source": [
    "<font color = 'gray'>\n",
    "<span style=\"font-family:verdana; font-size:1.4em;\">\n",
    "You might have thought y = 31, right? But in the example output above, it ended up being very close to 31.xxxxx. Why do you think that is?<br><br>\n",
    "    <b>Answer:</b> Neural networks deal with probabilities, so given the data that you fed in to it, the neural network calculated a very high probability that the relationship between X and Y is Y=3X+1, but with only 6 data points you can't know for sure. As a result, the result for 10 is very close to 31, but not necessarily 31.\n",
    "    </span>\n",
    "    </font>"
   ]
  }
 ],
 "metadata": {
  "kernelspec": {
   "display_name": "Python 3",
   "language": "python",
   "name": "python3"
  },
  "language_info": {
   "codemirror_mode": {
    "name": "ipython",
    "version": 3
   },
   "file_extension": ".py",
   "mimetype": "text/x-python",
   "name": "python",
   "nbconvert_exporter": "python",
   "pygments_lexer": "ipython3",
   "version": "3.7.6"
  }
 },
 "nbformat": 4,
 "nbformat_minor": 4
}
